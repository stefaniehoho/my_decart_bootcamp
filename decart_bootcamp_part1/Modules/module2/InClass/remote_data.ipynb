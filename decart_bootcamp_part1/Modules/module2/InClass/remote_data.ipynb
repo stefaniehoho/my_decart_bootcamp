{
 "cells": [
  {
   "cell_type": "markdown",
   "metadata": {},
   "source": [
    "<html>\n",
    "<table width=\"100%\" cellspacing=\"2\" cellpadding=\"2\" border=\"1\">\n",
    "<tbody>\n",
    "<tr>\n",
    "<td valign=\"center\" align=\"center\" width=\"25%\"><img src=\"../../../media/decartes.jpg\"\n",
    "alt=\"DeCART Icon\" width=\"128\" height=\"171\"><br>\n",
    "</td>\n",
    "<td valign=\"center\" align=\"center\" width=\"75%\">\n",
    "<h1 align=\"center\"><font size=\"+3\">DeCART Summer School<br>\n",
    "for<br>\n",
    "Biomedical Data Science</font></h1></td>\n",
    "<td valign=\"center\" align=\"center\" width=\"25%\"><img\n",
    "src=\"../../../media/U_Health_stacked_png_red.png\" alt=\"Utah Health\n",
    "Logo\" width=\"128\" height=\"134\"><br>\n",
    "</td>\n",
    "</tr>\n",
    "</tbody>\n",
    "</table>\n",
    "<br>\n",
    "</html>"
   ]
  },
  {
   "cell_type": "markdown",
   "metadata": {},
   "source": [
    "# Accessing Remote Data\n",
    "\n",
    "## Internet Protocols\n",
    "\n",
    "What we now know as the internet has its roots in the [ARPA Net]() that was designed to exchange data between computers across the country to facilitate decision making regarding potential nuclear attacks. The original ARPA net connected UCLA, UCSB, Stanford, and the University of Utah.\n",
    "\n",
    "![ARPA Net](https://www.sri.com/work/timeline-innovation/images/25_bw_arpanet2.png)\n",
    "\n",
    "[Various protocols](https://en.wikipedia.org/wiki/Internet_protocol_suite) have been defined for computers to communicate with each other across a network. The most important of these protocols for our purposes are\n",
    "\n",
    "\n",
    "### Application Protocols\n",
    "* [ftp](https://en.wikipedia.org/wiki/File_Transfer_Protocol)\n",
    "* [HTTP](https://en.wikipedia.org/wiki/Hypertext_Transfer_Protocol)\n",
    "* [ssh](https://en.wikipedia.org/wiki/Secure_Shell)"
   ]
  },
  {
   "cell_type": "markdown",
   "metadata": {},
   "source": [
    "### FTP\n",
    "\n",
    "FTP stands for **f**ile **t**ransfer **p**rotocol. FTP is an old protocol that has largely been replaced by more secure protocols. However, ftp is still used to distribute data. For example the NCI hosts an ftp site for distributing data:\n",
    "\n",
    "![NIC ftp site](../../../media/nci.png)\n",
    "\n",
    "One of the data sets we will be using in part 2 of the boot camp is [ClinVar](https://www.ncbi.nlm.nih.gov/clinvar/intro/) which is a resource for discovering the clinical significance of observed genetic variations.\n",
    "\n",
    "We can use the [``wget``](https://www.gnu.org/software/wget/manual/wget.html) program to use the ftp protocol to download data from an ftp site:"
   ]
  },
  {
   "cell_type": "markdown",
   "metadata": {},
   "source": [
    "## Exercise\n",
    "\n",
    "In a terminal or bash shell in the notebook, create a directory ``~/work/nci``. Change directory to that new directory and use ``wget`` to download the following file: ``ftp://ftp.ncbi.nlm.nih.gov/pub/clinvar/tab_delimited/var_citations.txt``"
   ]
  },
  {
   "cell_type": "code",
   "execution_count": 4,
   "metadata": {},
   "outputs": [
    {
     "name": "stdout",
     "output_type": "stream",
     "text": [
      "/home/jovyan/work/nci\n"
     ]
    },
    {
     "name": "stderr",
     "output_type": "stream",
     "text": [
      "mkdir: cannot create directory ‘/home/jovyan/work/nci’: File exists\n",
      "--2017-06-29 19:47:09--  ftp://ftp.ncbi.nlm.nih.gov/pub/clinvar/tab_delimited/var_citations.txt\n",
      "           => ‘var_citations.txt’\n",
      "Resolving ftp.ncbi.nlm.nih.gov (ftp.ncbi.nlm.nih.gov)... 130.14.250.11, 2607:f220:41e:250::12\n",
      "Connecting to ftp.ncbi.nlm.nih.gov (ftp.ncbi.nlm.nih.gov)|130.14.250.11|:21... connected.\n",
      "Logging in as anonymous ... Logged in!\n",
      "==> SYST ... done.    ==> PWD ... done.\n",
      "==> TYPE I ... done.  ==> CWD (1) /pub/clinvar/tab_delimited ... done.\n",
      "==> SIZE var_citations.txt ... 7900993\n",
      "==> PASV ... done.    ==> RETR var_citations.txt ... done.\n",
      "Length: 7900993 (7.5M) (unauthoritative)\n",
      "\n",
      "     0K .......... .......... .......... .......... ..........  0%  457K 17s\n",
      "    50K .......... .......... .......... .......... ..........  1%  473K 16s\n",
      "   100K .......... .......... .......... .......... ..........  1%  933K 14s\n",
      "   150K .......... .......... .......... .......... ..........  2%  922K 12s\n",
      "   200K .......... .......... .......... .......... ..........  3%  919K 11s\n",
      "   250K .......... .......... .......... .......... ..........  3%  915K 11s\n",
      "   300K .......... .......... .......... .......... ..........  4%  912K 10s\n",
      "   350K .......... .......... .......... .......... ..........  5%  903K 10s\n",
      "   400K .......... .......... .......... .......... ..........  5% 95.0M 9s\n",
      "   450K .......... .......... .......... .......... ..........  6%  896K 9s\n",
      "   500K .......... .......... .......... .......... ..........  7%  184M 8s\n",
      "   550K .......... .......... .......... .......... ..........  7%  887K 8s\n",
      "   600K .......... .......... .......... .......... ..........  8%  976K 8s\n",
      "   650K .......... .......... .......... .......... ..........  9% 72.7M 7s\n",
      "   700K .......... .......... .......... .......... ..........  9%  990K 7s\n",
      "   750K .......... .......... .......... .......... .......... 10% 58.3M 7s\n",
      "   800K .......... .......... .......... .......... .......... 11%  234M 6s\n",
      "   850K .......... .......... .......... .......... .......... 11%  991K 6s\n",
      "   900K .......... .......... .......... .......... .......... 12%  100M 6s\n",
      "   950K .......... .......... .......... .......... .......... 12%  998K 6s\n",
      "  1000K .......... .......... .......... .......... .......... 13% 57.6M 5s\n",
      "  1050K .......... .......... .......... .......... .......... 14%  151M 5s\n",
      "  1100K .......... .......... .......... .......... .......... 14% 1004K 5s\n",
      "  1150K .......... .......... .......... .......... .......... 15% 85.5M 5s\n",
      "  1200K .......... .......... .......... .......... .......... 16% 90.3M 5s\n",
      "  1250K .......... .......... .......... .......... .......... 16%  137M 5s\n",
      "  1300K .......... .......... .......... .......... .......... 17% 1002K 5s\n",
      "  1350K .......... .......... .......... .......... .......... 18% 74.7M 4s\n",
      "  1400K .......... .......... .......... .......... .......... 18% 91.6M 4s\n",
      "  1450K .......... .......... .......... .......... .......... 19%  212M 4s\n",
      "  1500K .......... .......... .......... .......... .......... 20% 1011K 4s\n",
      "  1550K .......... .......... .......... .......... .......... 20% 85.9M 4s\n",
      "  1600K .......... .......... .......... .......... .......... 21% 56.3M 4s\n",
      "  1650K .......... .......... .......... .......... .......... 22%  129M 4s\n",
      "  1700K .......... .......... .......... .......... .......... 22%  206M 3s\n",
      "  1750K .......... .......... .......... .......... .......... 23% 1016K 3s\n",
      "  1800K .......... .......... .......... .......... .......... 23% 78.4M 3s\n",
      "  1850K .......... .......... .......... .......... .......... 24% 87.7M 3s\n",
      "  1900K .......... .......... .......... .......... .......... 25%  104M 3s\n",
      "  1950K .......... .......... .......... .......... .......... 25%  223M 3s\n",
      "  2000K .......... .......... .......... .......... .......... 26% 1017K 3s\n",
      "  2050K .......... .......... .......... .......... .......... 27% 89.8M 3s\n",
      "  2100K .......... .......... .......... .......... .......... 27% 88.8M 3s\n",
      "  2150K .......... .......... .......... .......... .......... 28% 79.2M 3s\n",
      "  2200K .......... .......... .......... .......... .......... 29%  178M 3s\n",
      "  2250K .......... .......... .......... .......... .......... 29%  213M 3s\n",
      "  2300K .......... .......... .......... .......... .......... 30% 1022K 3s\n",
      "  2350K .......... .......... .......... .......... .......... 31% 84.2M 3s\n",
      "  2400K .......... .......... .......... .......... .......... 31% 77.6M 3s\n",
      "  2450K .......... .......... .......... .......... .......... 32% 95.8M 2s\n",
      "  2500K .......... .......... .......... .......... .......... 33%  106M 2s\n",
      "  2550K .......... .......... .......... .......... .......... 33%  215M 2s\n",
      "  2600K .......... .......... .......... .......... .......... 34% 1.02M 2s\n",
      "  2650K .......... .......... .......... .......... .......... 34% 73.8M 2s\n",
      "  2700K .......... .......... .......... .......... .......... 35% 75.5M 2s\n",
      "  2750K .......... .......... .......... .......... .......... 36% 75.5M 2s\n",
      "  2800K .......... .......... .......... .......... .......... 36% 90.7M 2s\n",
      "  2850K .......... .......... .......... .......... .......... 37% 87.1M 2s\n",
      "  2900K .......... .......... .......... .......... .......... 38%  113M 2s\n",
      "  2950K .......... .......... .......... .......... .......... 38%  218M 2s\n",
      "  3000K .......... .......... .......... .......... .......... 39% 1.03M 2s\n",
      "  3050K .......... .......... .......... .......... .......... 40% 79.7M 2s\n",
      "  3100K .......... .......... .......... .......... .......... 40% 74.9M 2s\n",
      "  3150K .......... .......... .......... .......... .......... 41% 83.8M 2s\n",
      "  3200K .......... .......... .......... .......... .......... 42% 73.3M 2s\n",
      "  3250K .......... .......... .......... .......... .......... 42% 91.4M 2s\n",
      "  3300K .......... .......... .......... .......... .......... 43%  100M 2s\n",
      "  3350K .......... .......... .......... .......... .......... 44%  213M 2s\n",
      "  3400K .......... .......... .......... .......... .......... 44%  225M 2s\n",
      "  3450K .......... .......... .......... .......... .......... 45% 1.04M 2s\n",
      "  3500K .......... .......... .......... .......... .......... 46% 74.5M 2s\n",
      "  3550K .......... .......... .......... .......... .......... 46% 95.2M 2s\n",
      "  3600K .......... .......... .......... .......... .......... 47% 79.9M 1s\n",
      "  3650K .......... .......... .......... .......... .......... 47% 69.2M 1s\n",
      "  3700K .......... .......... .......... .......... .......... 48% 79.2M 1s\n",
      "  3750K .......... .......... .......... .......... .......... 49% 82.2M 1s\n",
      "  3800K .......... .......... .......... .......... .......... 49%  146M 1s\n",
      "  3850K .......... .......... .......... .......... .......... 50%  183M 1s\n",
      "  3900K .......... .......... .......... .......... .......... 51%  219M 1s\n",
      "  3950K .......... .......... .......... .......... .......... 51% 1.05M 1s\n",
      "  4000K .......... .......... .......... .......... .......... 52% 71.3M 1s\n",
      "  4050K .......... .......... .......... .......... .......... 53% 72.2M 1s\n",
      "  4100K .......... .......... .......... .......... .......... 53% 85.1M 1s\n",
      "  4150K .......... .......... .......... .......... .......... 54% 82.0M 1s\n",
      "  4200K .......... .......... .......... .......... .......... 55% 81.8M 1s\n",
      "  4250K .......... .......... .......... .......... .......... 55% 74.8M 1s\n",
      "  4300K .......... .......... .......... .......... .......... 56% 76.7M 1s\n",
      "  4350K .......... .......... .......... .......... .......... 57%  171M 1s\n",
      "  4400K .......... .......... .......... .......... .......... 57%  202M 1s\n",
      "  4450K .......... .......... .......... .......... .......... 58%  144M 1s\n",
      "  4500K .......... .......... .......... .......... .......... 58%  222M 1s\n",
      "  4550K .......... .......... .......... .......... .......... 59% 1.06M 1s\n",
      "  4600K .......... .......... .......... .......... .......... 60% 79.4M 1s\n",
      "  4650K .......... .......... .......... .......... .......... 60% 66.2M 1s\n",
      "  4700K .......... .......... .......... .......... .......... 61% 88.3M 1s\n",
      "  4750K .......... .......... .......... .......... .......... 62% 91.6M 1s\n",
      "  4800K .......... .......... .......... .......... .......... 62% 94.1M 1s\n",
      "  4850K .......... .......... .......... .......... .......... 63% 79.4M 1s\n",
      "  4900K .......... .......... .......... .......... .......... 64% 91.0M 1s\n",
      "  4950K .......... .......... .......... .......... .......... 64% 89.7M 1s\n",
      "  5000K .......... .......... .......... .......... .......... 65%  160M 1s\n",
      "  5050K .......... .......... .......... .......... .......... 66%  196M 1s\n",
      "  5100K .......... .......... .......... .......... .......... 66%  236M 1s\n",
      "  5150K .......... .......... .......... .......... .......... 67%  239M 1s\n",
      "  5200K .......... .......... .......... .......... .......... 68% 1.07M 1s\n",
      "  5250K .......... .......... .......... .......... .......... 68% 93.2M 1s\n",
      "  5300K .......... .......... .......... .......... .......... 69% 89.8M 1s\n",
      "  5350K .......... .......... .......... .......... .......... 69% 89.5M 1s\n",
      "  5400K .......... .......... .......... .......... .......... 70% 73.4M 1s\n",
      "  5450K .......... .......... .......... .......... .......... 71% 99.4M 1s\n",
      "  5500K .......... .......... .......... .......... .......... 71% 99.3M 1s\n",
      "  5550K .......... .......... .......... .......... .......... 72%  100M 1s\n",
      "  5600K .......... .......... .......... .......... .......... 73% 85.4M 1s\n",
      "  5650K .......... .......... .......... .......... .......... 73%  102M 1s\n",
      "  5700K .......... .......... .......... .......... .......... 74% 98.4M 1s\n",
      "  5750K .......... .......... .......... .......... .......... 75%  180M 0s\n",
      "  5800K .......... .......... .......... .......... .......... 75%  189M 0s\n",
      "  5850K .......... .......... .......... .......... .......... 76%  229M 0s\n",
      "  5900K .......... .......... .......... .......... .......... 77% 1.10M 0s\n",
      "  5950K .......... .......... .......... .......... .......... 77% 75.8M 0s\n",
      "  6000K .......... .......... .......... .......... .......... 78% 70.8M 0s\n",
      "  6050K .......... .......... .......... .......... .......... 79% 84.9M 0s\n",
      "  6100K .......... .......... .......... .......... .......... 79% 81.4M 0s\n",
      "  6150K .......... .......... .......... .......... .......... 80% 84.9M 0s\n",
      "  6200K .......... .......... .......... .......... .......... 81% 62.3M 0s\n",
      "  6250K .......... .......... .......... .......... .......... 81% 90.8M 0s\n",
      "  6300K .......... .......... .......... .......... .......... 82% 94.0M 0s\n",
      "  6350K .......... .......... .......... .......... .......... 82% 90.8M 0s\n",
      "  6400K .......... .......... .......... .......... .......... 83% 64.3M 0s\n",
      "  6450K .......... .......... .......... .......... .......... 84% 74.6M 0s\n",
      "  6500K .......... .......... .......... .......... .......... 84%  154M 0s\n",
      "  6550K .......... .......... .......... .......... .......... 85%  205M 0s\n",
      "  6600K .......... .......... .......... .......... .......... 86%  986K 0s\n",
      "  6650K .......... .......... .......... .......... .......... 86%  206M 0s\n",
      "  6700K .......... .......... .......... .......... .......... 87%  244M 0s\n",
      "  6750K .......... .......... .......... .......... .......... 88% 1.13M 0s\n",
      "  6800K .......... .......... .......... .......... .......... 88%  164M 0s\n",
      "  6850K .......... .......... .......... .......... .......... 89%  187M 0s\n",
      "  6900K .......... .......... .......... .......... .......... 90%  237M 0s\n",
      "  6950K .......... .......... .......... .......... .......... 90%  210M 0s\n",
      "  7000K .......... .......... .......... .......... .......... 91%  198M 0s\n",
      "  7050K .......... .......... .......... .......... .......... 92%  250M 0s\n",
      "  7100K .......... .......... .......... .......... .......... 92%  269M 0s\n",
      "  7150K .......... .......... .......... .......... .......... 93%  159M 0s\n",
      "  7200K .......... .......... .......... .......... .......... 93%  187M 0s\n",
      "  7250K .......... .......... .......... .......... .......... 94%  193M 0s\n",
      "  7300K .......... .......... .......... .......... .......... 95%  189M 0s\n",
      "  7350K .......... .......... .......... .......... .......... 95%  165M 0s\n",
      "  7400K .......... .......... .......... .......... .......... 96%  189M 0s\n",
      "  7450K .......... .......... .......... .......... .......... 97%  186M 0s\n",
      "  7500K .......... .......... .......... .......... .......... 97%  196M 0s\n",
      "  7550K .......... .......... .......... .......... .......... 98%  180M 0s\n",
      "  7600K .......... .......... .......... .......... .......... 99%  302M 0s\n",
      "  7650K .......... .......... .......... .......... .......... 99%  295M 0s\n",
      "  7700K .......... .....                                      100%  249M=1.6s\n",
      "\n",
      "2017-06-29 19:47:11 (4.63 MB/s) - ‘var_citations.txt’ saved [7900993]\n",
      "\n"
     ]
    }
   ],
   "source": [
    "%%bash\n",
    "mkdir ~/work/nci\n",
    "cd ~/work/nci\n",
    "pwd\n",
    "wget ftp://ftp.ncbi.nlm.nih.gov/pub/clinvar/tab_delimited/var_citations.txt"
   ]
  },
  {
   "cell_type": "code",
   "execution_count": 5,
   "metadata": {},
   "outputs": [
    {
     "name": "stdout",
     "output_type": "stream",
     "text": [
      "var_citations.txt exist in the correct location\n",
      "var_citations.txt read correctly\n"
     ]
    }
   ],
   "source": [
    "from remote_quizzes import *\n",
    "nci_ftp_quiz()"
   ]
  },
  {
   "cell_type": "markdown",
   "metadata": {},
   "source": [
    "## [``pandoc``](http://pandoc.org/)\n",
    "\n",
    "Pandoc is a very useful tool that converts a document in one format to a another format. It is quite versatile in the kind of documents it can handle, including\n",
    "\n",
    "* Word documents (*.docx)\n",
    "* HTML (*.html)\n",
    "* [Markdown](https://daringfireball.net/projects/markdown/syntax) (*.md)\n",
    "* [reStructedText](http://docutils.sourceforge.net/rst.html) (*.rst)\n",
    "* [LaTex](https://www.latex-project.org/about/) (*.tex)\n",
    "\n",
    "There are many more formats pandoc understands. See the [documentation](http://pandoc.org/).\n",
    "\n",
    "In these courses, we will make much use of Markdown and LaTex. Thees notebooks are set in Markdown.\n",
    "\n"
   ]
  },
  {
   "cell_type": "markdown",
   "metadata": {},
   "source": [
    "## [``curl``](https://curl.haxx.se/docs/manpage.html)\n",
    "\n",
    "``curl`` is a tool similar to ``wget``, but with perhaps more general functionality. Int he following example\n",
    "\n",
    "## Example\n",
    "\n",
    "In this example we are going to explore a little bit of the differences between ``wget`` and ``curl``. As part of this exploration we are going to combine Unix pipes and pandoc to convert the HTML document that is pulled from the web to a more user readable form.\n",
    "\n",
    "The author of ``curl`` has written a comparison between the two tools at ``https://daniel.haxx.se/docs/curl-vs-wget.html``. \n",
    "\n",
    "In a terminal type the following command:\n",
    "\n",
    "```bash\n",
    "curl https://daniel.haxx.se/docs/curl-vs-wget.html | pandoc -S --from=html --to=plain | less\n",
    "```\n",
    "\n",
    "## Exercise\n",
    "\n",
    "Explain each step of the composite command to your neighbor/partner.\n",
    "\n",
    "\n",
    "## Exercise\n",
    "\n",
    "Change the output format (``--to=plain``) to other formats to explore them, including not converting the HTML at all."
   ]
  },
  {
   "cell_type": "markdown",
   "metadata": {},
   "source": [
    "## Structure of Web Servers\n",
    "\n",
    "Web servers like Apache and Nginx map directories on the server to web addresses. We have created an Nginx web server on our network. For Nginx the directory root that is mapped to the web is ``/usr/share/nginx/html``. Here is what the directory tree there looks like:\n",
    "\n",
    "![Nginx tree](../../../media/webserver.png)\n",
    "\n",
    "``index.html`` is the HTML page that maps to the url base.\n",
    "\n",
    "Running this locally on my computer the address is ``http://127.0.0.1:8080``:\n",
    "\n",
    "![index image](../../../media/index.html.png)\n",
    "\n",
    "Any file sitting below ``/user/share/nginx/html`` maps with an address matching its relative file path. So, for example the, JPEG file located at ``./imgs/bigneck.jpg`` maps to ``http://127.0.0.1:8080/imgs/bigneck.jpg``\n",
    "\n",
    "![big neck](../../../media/big_neck.png)\n",
    "\n",
    "And ``./data/carotid.txt`` maps to ``http://127.0.0.1:8080/data/carotid.txt``\n",
    "\n",
    "![carotid image](../../../media/carotid.png)"
   ]
  },
  {
   "cell_type": "markdown",
   "metadata": {},
   "source": [
    "## Images and Medicine\n",
    "\n",
    "Visual information is integral to medicine. Digital imaging technologies and electronic health records enable the greater use of images in medicine. Some disciplines, such as radiology and surgical pathology, are entirely built around visual information and captured images. In fields like dermatology, images are becoming more prevalent. In radiology, medical-specific standards are used to represent images while dermatology tends to use general photographic image standards.\n",
    "\n",
    "\n",
    "\n",
    "\n",
    "## Medical Specific Standards for Images\n",
    "\n",
    "* [DICOM](https://en.wikipedia.org/wiki/DICOM)\n",
    "\n",
    "## General Image Standards\n",
    "\n",
    "* [TIFF: Tagged Image File Format](https://en.wikipedia.org/wiki/Tagged_Image_File_Format)\n",
    "* [JPEG: Joint Photographic Experts Group](https://en.wikipedia.org/wiki/JPEG)\n",
    "* [PNG: Portable Network Graphics](https://en.wikipedia.org/wiki/Portable_Network_Graphics)\n",
    "\n",
    "\n",
    "### Exercise\n",
    "\n",
    "When defining a standard for a digital image, what are some of the information about the image you would need to represent/record?"
   ]
  },
  {
   "cell_type": "markdown",
   "metadata": {},
   "source": [
    "## Install a program for reading image headers for photographic images\n",
    "\n",
    "The cell below will create an executable program EXIF.py. This file will be installed in your path (use ``which`` to see where it is installed) and can be used to read the metadata for an image."
   ]
  },
  {
   "cell_type": "code",
   "execution_count": 6,
   "metadata": {},
   "outputs": [
    {
     "name": "stdout",
     "output_type": "stream",
     "text": [
      "Collecting exifread\n",
      "  Downloading ExifRead-2.1.2.tar.gz\n",
      "Building wheels for collected packages: exifread\n",
      "  Running setup.py bdist_wheel for exifread: started\n",
      "  Running setup.py bdist_wheel for exifread: finished with status 'done'\n",
      "  Stored in directory: /home/jovyan/.cache/pip/wheels/bf/4a/e3/7c17937fac0c09f5a22d5c80021d85ad47befebef193197f11\n",
      "Successfully built exifread\n",
      "Installing collected packages: exifread\n",
      "Successfully installed exifread-2.1.2\n"
     ]
    }
   ],
   "source": [
    "%%bash\n",
    "pip install exifread"
   ]
  },
  {
   "cell_type": "markdown",
   "metadata": {},
   "source": [
    "## Exercise\n",
    "\n",
    "Make the directories ``/home/jovyan/work/images_wget`` and ``/home/jovyan/images_curl``. Use both ``wget`` and ``curl`` to download the images from ``mynginx`` to the wget and curl directories respectively. Use the ``EXIF.py`` program to answer the following questions:\n",
    "\n",
    "1. What are the image dimensions of 04.jpg?\n",
    "1. What is the date 04.jpg was acquired?\n",
    "1. What is the color space of 04.jpg?\n",
    "1. What are the image dimensions of ct6.jpg?\n",
    "1. What is the date ct6.jpg was acquired?\n",
    "1. What is the color space of ct6.jpg?"
   ]
  },
  {
   "cell_type": "markdown",
   "metadata": {},
   "source": [
    "## Display an image using Markdown\n",
    "\n",
    "We can display an image in this notebook using Markdown. The syntax is\n",
    "\n",
    "```markdown\n",
    "\n",
    "![some label](PATH_TO_FILE)\n",
    "```\n",
    "\n",
    "Edit the markdown cell below to display an image you have pulled from mynginx"
   ]
  },
  {
   "cell_type": "markdown",
   "metadata": {},
   "source": [
    "### Display image here\n",
    "\n",
    "![]()"
   ]
  },
  {
   "cell_type": "code",
   "execution_count": 7,
   "metadata": {},
   "outputs": [
    {
     "data": {
      "text/plain": [
       "'/home/jovyan/work/decart_bootcamp_part1/Modules/module2/InClass'"
      ]
     },
     "execution_count": 7,
     "metadata": {},
     "output_type": "execute_result"
    }
   ],
   "source": [
    "pwd"
   ]
  },
  {
   "cell_type": "code",
   "execution_count": 11,
   "metadata": {},
   "outputs": [
    {
     "name": "stdout",
     "output_type": "stream",
     "text": [
      "/bin/sh: 1: Syntax error: word unexpected (expecting \")\")\r\n"
     ]
    }
   ],
   "source": [
    "![test](../../../../nci/04.jpg)"
   ]
  },
  {
   "cell_type": "code",
   "execution_count": 12,
   "metadata": {},
   "outputs": [
    {
     "name": "stdout",
     "output_type": "stream",
     "text": [
      "/bin/sh: 1: Syntax error: \"(\" unexpected\r\n"
     ]
    }
   ],
   "source": [
    "![some label](../../../../nci/04.jpg)"
   ]
  },
  {
   "cell_type": "markdown",
   "metadata": {},
   "source": [
    "\n",
    "![test](../../../../images_wget/ct6.jpg)"
   ]
  },
  {
   "cell_type": "markdown",
   "metadata": {},
   "source": [
    "![test](../../../../images_wget/04.jpg)"
   ]
  },
  {
   "cell_type": "code",
   "execution_count": null,
   "metadata": {
    "collapsed": true
   },
   "outputs": [],
   "source": []
  }
 ],
 "metadata": {
  "kernelspec": {
   "display_name": "Python 3",
   "language": "python",
   "name": "python3"
  },
  "language_info": {
   "codemirror_mode": {
    "name": "ipython",
    "version": 3
   },
   "file_extension": ".py",
   "mimetype": "text/x-python",
   "name": "python",
   "nbconvert_exporter": "python",
   "pygments_lexer": "ipython3",
   "version": "3.5.2"
  }
 },
 "nbformat": 4,
 "nbformat_minor": 1
}
