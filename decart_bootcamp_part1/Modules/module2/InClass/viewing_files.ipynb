{
 "cells": [
  {
   "cell_type": "markdown",
   "metadata": {},
   "source": [
    "<html>\n",
    "<table width=\"100%\" cellspacing=\"2\" cellpadding=\"2\" border=\"1\">\n",
    "<tbody>\n",
    "<tr>\n",
    "<td valign=\"center\" align=\"center\" width=\"25%\"><img src=\"../../../media/decartes.jpg\"\n",
    "alt=\"DeCART Icon\" width=\"128\" height=\"171\"><br>\n",
    "</td>\n",
    "<td valign=\"center\" align=\"center\" width=\"75%\">\n",
    "<h1 align=\"center\"><font size=\"+3\">DeCART Summer School<br>\n",
    "for<br>\n",
    "Biomedical Data Science</font></h1></td>\n",
    "<td valign=\"center\" align=\"center\" width=\"25%\"><img\n",
    "src=\"../../../media/U_Health_stacked_png_red.png\" alt=\"Utah Health\n",
    "Logo\" width=\"128\" height=\"134\"><br>\n",
    "</td>\n",
    "</tr>\n",
    "</tbody>\n",
    "</table>\n",
    "<br>\n",
    "</html>"
   ]
  },
  {
   "cell_type": "markdown",
   "metadata": {},
   "source": [
    "# Viewing Contents of Files\n",
    "\n",
    "How do we view the content of files? We will eventually learn one of the oldest and most powerful text editors in Unix, but for now we will explore three Unix/Linux commands for viewing (but not editing) file content.\n",
    "\n",
    "* [``cat``](https://goo.gl/nTHjqi)\n",
    "* [``more``](https://goo.gl/VU8tFh)\n",
    "* [``less``](https://goo.gl/zTByN3)"
   ]
  },
  {
   "cell_type": "markdown",
   "metadata": {},
   "source": [
    "## ``cat``\n",
    "\n",
    "The name ``cat`` comes from concatenate, one of the uses of ``cat``. ``cat`` simply prints the content of the file to the screen."
   ]
  },
  {
   "cell_type": "code",
   "execution_count": 1,
   "metadata": {},
   "outputs": [
    {
     "name": "stdout",
     "output_type": "stream",
     "text": [
      "10/18/01\r\n",
      "BAIRD, Alice O., 96, of Pine, died Oct. 16. King Funeral Home, Hampton. (DN) \r\n",
      "BECKER, Patricia Joan, 68, of West Deer, died Oct. 16. King Funeral Home, Hampton. (DN) \r\n",
      "BELKE, Ronald, died Oct. 13. Thomas J. Gmiter Funeral Home, South Side. (DN) \r\n",
      "BELKE, Irene, died Oct. 13. Thomas J. Gmiter Funeral Home, South Side. (DN) \r\n",
      "BRADBURN, Arlene A., died Oct. 16. William Slater II Funeral Services, Scott. (DN) \r\n",
      "BRAUN, Justina F., 92, of McKees Rocks, died Oct. 15. McKees Rocks Funeral Home, McKees Rocks. (DN) \r\n",
      "BROWN, Dorothy C., 77, died Oct. 16. Rowland S. Cooke Funeral Home, East End. (DN) \r\n",
      "CHERNEGA, Mary M., 83, of East Pittsburgh, died Oct. 17. Patrick T. Lanigan Funeral Home, East Pittsburgh. (DN) \r\n",
      "CLOUSE, Walter J., 79, of Fox chapel, died Oct. 17. Weddell-Ajak Funeral Home, Aspinwall. (DN) \r\n",
      "DRURY, Anna H., 93, of Mount Washington, died Oct. 15. Daniel T. D'Alessandro Funeral Home, Lawrenceville. (DN) \r\n",
      "DUBOSKY, Mary Hotsur, 85, of North Huntingdon, died Oct. 16. William Snyder Funeral Home. \r\n",
      "EWART, Arthur E., of Penn Hill, died Oct. 17. Burket-Truby Funeral Home, Oakmont. (DN) \r\n",
      "FARKAS, Laura, of South Side, died Oct. 15. John J. Gmiter Funeral Home, South Side. (DN) \r\n",
      "FLEMING, Howard Lee, 66, of South Park, died Oct. 15. Kegel Funeral Home, Finleyville, Washington County. (DN) \r\n",
      "GAMBLE, Albert R., 87, of Oakmont, died Oct. 17. James C. Stump Funeral Home, Rostraver. (DN) \r\n",
      "GIDDANS, Donald, of Wilkinsburg, died Oct. 17. Spriggs-Watson Funeral Home, Homewood. \r\n",
      "GOLDBERG, Elaine Unger, 73, of Squirrel Hill, died Oct. 14. Ralph Schugar Chapel, Shadyside. (DN) \r\n",
      "GREGO, Kimberly A., 40, of Millvale, died Oct. 16. Healy-Haun Funeral Home, Millvale. (DN) \r\n",
      "McCUE, Cletus, 67, of Lawrenceville, died Oct. 15. Daniel T. D'Alessandro Funeral Home, Lawrenceville. (DN) \r\n",
      "McMULLAN, Bernard L., 53, of Brookline, died Oct. 17. Beinhauer's, Beechview. (DN) \r\n",
      "10/16/01\r\n",
      "ACKLIN, William H., 88, of South Fayette, died Oct. 14. Eugene C. Coleman Funeral Home, Washington County. (DN) \r\n",
      "BEGLY, Laurel M., of Brookline, died Oct. 14. Beinhauer's, Beechview. (DN) \r\n",
      "BOCK, Albert J., 75, of Allentown, died Oct. 13. James J. Barry Jr. Funeral Home, Allentown. (DN) \r\n",
      "CARR, Alberta Weaver, of Etna, died Oct. 14. Frank R. Perman Funeral Home, Shaler. (DN) \r\n",
      "CHARNOCK, Ruth A., of Avalon, died Oct. 15. Lawrence T. Miller Funeral Home, Bellevue. (DN) \r\n",
      "CHINCHILLA, Cecilia C., 74, died Oct. 13. John Syka Funeral Home, Ambridge. (DN) \r\n",
      "CRATSA, Steve, 79, of Penn Hills, died Oct. 14. Thomas D. English Funeral Home, Oakmont. (DN) \r\n",
      "CUNLIFFE, Grace Stotler, 72, of Plum, died Oct. 14. Maurice L. Knee Funeral Home, Plum. (DN) \r\n",
      "CUNNINGHAM, Leo H., 55, of North Side, died Oct. 14. Schellhaas Funeral Home, North Side. (DN) "
     ]
    }
   ],
   "source": [
    "%%bash\n",
    "cat /home/jovyan/DATA/Misc/obits.txt"
   ]
  },
  {
   "cell_type": "markdown",
   "metadata": {},
   "source": [
    "#### I can ``cat`` more than one file (this is how I would concatenate them)"
   ]
  },
  {
   "cell_type": "code",
   "execution_count": 2,
   "metadata": {},
   "outputs": [
    {
     "name": "stdout",
     "output_type": "stream",
     "text": [
      "10/18/01\r\n",
      "BAIRD, Alice O., 96, of Pine, died Oct. 16. King Funeral Home, Hampton. (DN) \r\n",
      "BECKER, Patricia Joan, 68, of West Deer, died Oct. 16. King Funeral Home, Hampton. (DN) \r\n",
      "BELKE, Ronald, died Oct. 13. Thomas J. Gmiter Funeral Home, South Side. (DN) \r\n",
      "BELKE, Irene, died Oct. 13. Thomas J. Gmiter Funeral Home, South Side. (DN) \r\n",
      "BRADBURN, Arlene A., died Oct. 16. William Slater II Funeral Services, Scott. (DN) \r\n",
      "BRAUN, Justina F., 92, of McKees Rocks, died Oct. 15. McKees Rocks Funeral Home, McKees Rocks. (DN) \r\n",
      "BROWN, Dorothy C., 77, died Oct. 16. Rowland S. Cooke Funeral Home, East End. (DN) \r\n",
      "CHERNEGA, Mary M., 83, of East Pittsburgh, died Oct. 17. Patrick T. Lanigan Funeral Home, East Pittsburgh. (DN) \r\n",
      "CLOUSE, Walter J., 79, of Fox chapel, died Oct. 17. Weddell-Ajak Funeral Home, Aspinwall. (DN) \r\n",
      "DRURY, Anna H., 93, of Mount Washington, died Oct. 15. Daniel T. D'Alessandro Funeral Home, Lawrenceville. (DN) \r\n",
      "DUBOSKY, Mary Hotsur, 85, of North Huntingdon, died Oct. 16. William Snyder Funeral Home. \r\n",
      "EWART, Arthur E., of Penn Hill, died Oct. 17. Burket-Truby Funeral Home, Oakmont. (DN) \r\n",
      "FARKAS, Laura, of South Side, died Oct. 15. John J. Gmiter Funeral Home, South Side. (DN) \r\n",
      "FLEMING, Howard Lee, 66, of South Park, died Oct. 15. Kegel Funeral Home, Finleyville, Washington County. (DN) \r\n",
      "GAMBLE, Albert R., 87, of Oakmont, died Oct. 17. James C. Stump Funeral Home, Rostraver. (DN) \r\n",
      "GIDDANS, Donald, of Wilkinsburg, died Oct. 17. Spriggs-Watson Funeral Home, Homewood. \r\n",
      "GOLDBERG, Elaine Unger, 73, of Squirrel Hill, died Oct. 14. Ralph Schugar Chapel, Shadyside. (DN) \r\n",
      "GREGO, Kimberly A., 40, of Millvale, died Oct. 16. Healy-Haun Funeral Home, Millvale. (DN) \r\n",
      "McCUE, Cletus, 67, of Lawrenceville, died Oct. 15. Daniel T. D'Alessandro Funeral Home, Lawrenceville. (DN) \r\n",
      "McMULLAN, Bernard L., 53, of Brookline, died Oct. 17. Beinhauer's, Beechview. (DN) \r\n",
      "10/16/01\r\n",
      "ACKLIN, William H., 88, of South Fayette, died Oct. 14. Eugene C. Coleman Funeral Home, Washington County. (DN) \r\n",
      "BEGLY, Laurel M., of Brookline, died Oct. 14. Beinhauer's, Beechview. (DN) \r\n",
      "BOCK, Albert J., 75, of Allentown, died Oct. 13. James J. Barry Jr. Funeral Home, Allentown. (DN) \r\n",
      "CARR, Alberta Weaver, of Etna, died Oct. 14. Frank R. Perman Funeral Home, Shaler. (DN) \r\n",
      "CHARNOCK, Ruth A., of Avalon, died Oct. 15. Lawrence T. Miller Funeral Home, Bellevue. (DN) \r\n",
      "CHINCHILLA, Cecilia C., 74, died Oct. 13. John Syka Funeral Home, Ambridge. (DN) \r\n",
      "CRATSA, Steve, 79, of Penn Hills, died Oct. 14. Thomas D. English Funeral Home, Oakmont. (DN) \r\n",
      "CUNLIFFE, Grace Stotler, 72, of Plum, died Oct. 14. Maurice L. Knee Funeral Home, Plum. (DN) \r\n",
      "CUNNINGHAM, Leo H., 55, of North Side, died Oct. 14. Schellhaas Funeral Home, North Side. (DN) This directory contains data for analysis in the bmdsbootcamp.\n",
      "\n",
      "The directory is read-only.\n",
      "\n",
      "To access the code/course materials for the bootcamp cd ~/work and execute the following command:\n",
      "\n",
      "git clone http://gitlab.med.utah.edu/uuds4health/bmdsbootcamp.git\n"
     ]
    }
   ],
   "source": [
    "%%bash\n",
    "cat /home/jovyan/DATA/Misc/obits.txt /home/jovyan/DATA/README.txt"
   ]
  },
  {
   "cell_type": "markdown",
   "metadata": {},
   "source": [
    "### ``more``\n",
    "\n",
    "``more`` is a **page viewer**. It takes the content of a file and displays it to the user in chunks that can be paged through.\n",
    "\n",
    "Because this is interactive, we cannot explore it in the notebook. Instead, open a terminal and type the following command:\n",
    "\n",
    "```bash\n",
    "more /home/jovyan/DATA/Misc/obits.txt\n",
    "```\n",
    "\n",
    "The contents of the file will be printed to your terminal until your terminal is full. The output is then paused (with a message of how much of the file has been viewed), waiting for you to continue.\n",
    "\n",
    "* The space bar will continue to the next page of output\n",
    "* The return character will continue to the next line of output\n",
    "* ``q`` will quit\n",
    "* ``/`` will let you search for a pattern in the file\n",
    "    * ``n`` will take you to the next occurrence of the pattern\n",
    "    \n",
    "### ``less`` is like ``more`` only **more** useful\n",
    "\n",
    "``less`` allows both forward paging (like ``more``) but also backward paging. The Wikipedia article has a [nice table](https://goo.gl/E5b2Dh) of ``less`` commands.\n",
    "\n",
    "## Exercise\n",
    "\n",
    "Use ``more`` or ``less`` to count how many deaths recorded in ``obits.txt`` occurred on October 15th.\n",
    "\n",
    "#### Question: Why use ``more`` or ``less`` rather than just using ``grep``?"
   ]
  },
  {
   "cell_type": "code",
   "execution_count": 3,
   "metadata": {},
   "outputs": [
    {
     "name": "stdout",
     "output_type": "stream",
     "text": [
      "October 15 counted correctly\n"
     ]
    }
   ],
   "source": [
    "from viewing_quizzes import *\n",
    "oct15(ocount=6)"
   ]
  },
  {
   "cell_type": "code",
   "execution_count": null,
   "metadata": {
    "collapsed": true
   },
   "outputs": [],
   "source": []
  }
 ],
 "metadata": {
  "kernelspec": {
   "display_name": "Python 3",
   "language": "python",
   "name": "python3"
  },
  "language_info": {
   "codemirror_mode": {
    "name": "ipython",
    "version": 3
   },
   "file_extension": ".py",
   "mimetype": "text/x-python",
   "name": "python",
   "nbconvert_exporter": "python",
   "pygments_lexer": "ipython3",
   "version": "3.5.2"
  }
 },
 "nbformat": 4,
 "nbformat_minor": 1
}
