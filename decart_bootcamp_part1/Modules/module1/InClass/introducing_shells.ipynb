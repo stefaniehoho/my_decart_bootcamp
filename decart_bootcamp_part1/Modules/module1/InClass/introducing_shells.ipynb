{
 "cells": [
  {
   "cell_type": "markdown",
   "metadata": {},
   "source": [
    "<html>\n",
    "<table width=\"100%\" cellspacing=\"2\" cellpadding=\"2\" border=\"1\">\n",
    "<tbody>\n",
    "<tr>\n",
    "<td valign=\"center\" align=\"center\" width=\"25%\"><img src=\"../../../media/decartes.jpg\"\n",
    "alt=\"DeCART Icon\" width=\"128\" height=\"171\"><br>\n",
    "</td>\n",
    "<td valign=\"center\" align=\"center\" width=\"75%\">\n",
    "<h1 align=\"center\"><font size=\"+3\">DeCART Summer School<br>\n",
    "for<br>\n",
    "Biomedical Data Science</font></h1></td>\n",
    "<td valign=\"center\" align=\"center\" width=\"25%\"><img\n",
    "src=\"../../../media/U_Health_stacked_png_red.png\" alt=\"Utah Health\n",
    "Logo\" width=\"128\" height=\"134\"><br>\n",
    "</td>\n",
    "</tr>\n",
    "</tbody>\n",
    "</table>\n",
    "<br>\n",
    "</html>"
   ]
  },
  {
   "cell_type": "markdown",
   "metadata": {},
   "source": [
    "# Working with Computer Shells"
   ]
  },
  {
   "cell_type": "markdown",
   "metadata": {},
   "source": [
    "All modern computers run **operating systems** that control how a user (and programs) interact with the underlying hardware. A nice overview of operating systems is available [here](https://en.wikipedia.org/wiki/Operating_system) on Wikipedia.\n",
    "\n",
    "Although graphical user interfaces (GUIs) have been the primary interface for most users using a computer since the mid-1990s, both Windows and UNIX-variants come with programs called **shells** that allow the user to interact with the operating system by typing commands in the shell: command line interfaces (CLI). In some disciplines, such as bioinformatics, the vast majority of tools are run from the command line.\n",
    "\n",
    "There are two commonly used operating systems: \n",
    "\n",
    "1. Microsoft Windows (and its variants)\n",
    "1. UNIX (and its variants, including Linux). \n",
    "    1. [Mac OS X is built on top of a UNIX variant](https://www.wired.com/2013/08/jordan-hubbard/). \n",
    "    \n",
    "The vast majority of scientific computing is done on some form of UNIX/Linux, and so for this class we will focus on becoming familiar with Linux. \n",
    "\n",
    "\n",
    "A shell is a user environment with a collection of programs available to the user. These programs allow the user to move around in the file system; create, modify, and delete files and directories; examine content of files; run other programs; etc. Within UNIX/Linux there are a number of different shells (see [this](https://en.wikipedia.org/wiki/Comparison_of_command_shells#General_characteristics) table for some examples). We will be working with the [bash shell](https://www.gnu.org/software/bash/).\n",
    "\n",
    "The Software Carpentry shell tutorial provides a nice [summary](http://swcarpentry.github.io/shell-novice/reference/) of commands commonly used in the shell.\n",
    "\n",
    "\n",
    "#### A note on Windows\n",
    "\n",
    "While the syntax will be different in Windows, most of what we learn in Linux will have close analogies in Windows. Microsoft Windows has the [cmd](https://www.microsoft.com/resources/documentation/windows/xp/all/proddocs/en-us/ntcmds_shelloverview.mspx?mfr=true) shell as well as the [PowerShell](https://github.com/PowerShell/PowerShell). As of Windows 10, the [PowerShell includes bash](https://blogs.msdn.microsoft.com/powershell/2016/04/01/bash-for-windows-why-its-awesome-and-what-it-means-for-powershell/)."
   ]
  }
 ],
 "metadata": {
  "kernelspec": {
   "display_name": "Python 3",
   "language": "python",
   "name": "python3"
  },
  "language_info": {
   "codemirror_mode": {
    "name": "ipython",
    "version": 3
   },
   "file_extension": ".py",
   "mimetype": "text/x-python",
   "name": "python",
   "nbconvert_exporter": "python",
   "pygments_lexer": "ipython3",
   "version": "3.5.2"
  }
 },
 "nbformat": 4,
 "nbformat_minor": 1
}
