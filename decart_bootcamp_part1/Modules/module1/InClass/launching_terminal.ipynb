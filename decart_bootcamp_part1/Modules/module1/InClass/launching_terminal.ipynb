{
 "cells": [
  {
   "cell_type": "markdown",
   "metadata": {},
   "source": [
    "# Launching the Terminal\n",
    "\n",
    "While we can run bash commands from these notebooks, we also have access to a bash shell. We can launch a new terminal from the ``new`` tab on our Jupyter home page, as illustrated in the image below.\n",
    "\n",
    "![creating a new terminal](../../../media/new_terminal.png)"
   ]
  },
  {
   "cell_type": "code",
   "execution_count": 1,
   "metadata": {},
   "outputs": [
    {
     "name": "stdout",
     "output_type": "stream",
     "text": [
      "/home/jovyan/DATA/Misc\n"
     ]
    }
   ],
   "source": [
    "cd /home/jovyan/DATA/Misc\n"
   ]
  },
  {
   "cell_type": "code",
   "execution_count": 2,
   "metadata": {},
   "outputs": [
    {
     "name": "stdout",
     "output_type": "stream",
     "text": [
      "\u001b[0m\u001b[01;34m.\u001b[0m/                                \u001b[01;32mcarotid.txt\u001b[0m*     \u001b[01;32mpah_comorbidities.txt\u001b[0m*\r\n",
      "\u001b[01;34m..\u001b[0m/                               \u001b[01;32mdoid.obo\u001b[0m*        \u001b[01;32mseinfeldFood.sqlite\u001b[0m*\r\n",
      "\u001b[01;32mAccidents7904.csv\u001b[0m*                \u001b[01;32micd9-short.txt\u001b[0m*\r\n",
      "\u001b[01;32mbmi_faculty_papers_details.json\u001b[0m*  \u001b[01;32mobits.txt\u001b[0m*\r\n"
     ]
    }
   ],
   "source": [
    "ls -a"
   ]
  },
  {
   "cell_type": "code",
   "execution_count": 3,
   "metadata": {},
   "outputs": [
    {
     "name": "stdout",
     "output_type": "stream",
     "text": [
      "total 756384\r\n",
      "-rwxr-xr-x 1 root root 755035667 Jul  8  2016 \u001b[0m\u001b[01;32mAccidents7904.csv\u001b[0m*\r\n",
      "-rwxr-xr-x 1 root root  15205934 Jul  8  2016 \u001b[01;32mbmi_faculty_papers_details.json\u001b[0m*\r\n",
      "-rwxr-xr-x 1 root root     49361 Oct  4  2016 \u001b[01;32mcarotid.txt\u001b[0m*\r\n",
      "-rwxr-xr-x 1 root root   4060989 Jul  8  2016 \u001b[01;32mdoid.obo\u001b[0m*\r\n",
      "-rwxr-xr-x 1 root root     47428 Jun 21  2016 \u001b[01;32micd9-short.txt\u001b[0m*\r\n",
      "-rwxr-xr-x 1 root root      2745 Oct  4  2016 \u001b[01;32mobits.txt\u001b[0m*\r\n",
      "-rwxr-xr-x 1 root root     88113 Oct 18  2016 \u001b[01;32mpah_comorbidities.txt\u001b[0m*\r\n",
      "-rwxr-xr-x 1 root root     25600 Oct 18  2016 \u001b[01;32mseinfeldFood.sqlite\u001b[0m*\r\n"
     ]
    }
   ],
   "source": [
    "ls -ll"
   ]
  },
  {
   "cell_type": "code",
   "execution_count": 4,
   "metadata": {},
   "outputs": [
    {
     "name": "stdout",
     "output_type": "stream",
     "text": [
      "total 756384\r\n",
      "-rwxr-xr-x 1 root root      2745 Oct  4  2016 \u001b[0m\u001b[01;32mobits.txt\u001b[0m*\r\n",
      "-rwxr-xr-x 1 root root     25600 Oct 18  2016 \u001b[01;32mseinfeldFood.sqlite\u001b[0m*\r\n",
      "-rwxr-xr-x 1 root root     47428 Jun 21  2016 \u001b[01;32micd9-short.txt\u001b[0m*\r\n",
      "-rwxr-xr-x 1 root root     49361 Oct  4  2016 \u001b[01;32mcarotid.txt\u001b[0m*\r\n",
      "-rwxr-xr-x 1 root root     88113 Oct 18  2016 \u001b[01;32mpah_comorbidities.txt\u001b[0m*\r\n",
      "-rwxr-xr-x 1 root root   4060989 Jul  8  2016 \u001b[01;32mdoid.obo\u001b[0m*\r\n",
      "-rwxr-xr-x 1 root root  15205934 Jul  8  2016 \u001b[01;32mbmi_faculty_papers_details.json\u001b[0m*\r\n",
      "-rwxr-xr-x 1 root root 755035667 Jul  8  2016 \u001b[01;32mAccidents7904.csv\u001b[0m*\r\n"
     ]
    }
   ],
   "source": [
    "ls -lSr\n"
   ]
  },
  {
   "cell_type": "code",
   "execution_count": 5,
   "metadata": {},
   "outputs": [
    {
     "name": "stdout",
     "output_type": "stream",
     "text": [
      "total 756384\r\n",
      "-rwxr-xr-x 1 root root     25600 Oct 18  2016 \u001b[0m\u001b[01;32mseinfeldFood.sqlite\u001b[0m*\r\n",
      "-rwxr-xr-x 1 root root     88113 Oct 18  2016 \u001b[01;32mpah_comorbidities.txt\u001b[0m*\r\n",
      "-rwxr-xr-x 1 root root     49361 Oct  4  2016 \u001b[01;32mcarotid.txt\u001b[0m*\r\n",
      "-rwxr-xr-x 1 root root      2745 Oct  4  2016 \u001b[01;32mobits.txt\u001b[0m*\r\n",
      "-rwxr-xr-x 1 root root  15205934 Jul  8  2016 \u001b[01;32mbmi_faculty_papers_details.json\u001b[0m*\r\n",
      "-rwxr-xr-x 1 root root   4060989 Jul  8  2016 \u001b[01;32mdoid.obo\u001b[0m*\r\n",
      "-rwxr-xr-x 1 root root 755035667 Jul  8  2016 \u001b[01;32mAccidents7904.csv\u001b[0m*\r\n",
      "-rwxr-xr-x 1 root root     47428 Jun 21  2016 \u001b[01;32micd9-short.txt\u001b[0m*\r\n"
     ]
    }
   ],
   "source": [
    "ls -lt\n"
   ]
  },
  {
   "cell_type": "code",
   "execution_count": 6,
   "metadata": {},
   "outputs": [
    {
     "data": {
      "text/plain": [
       "'/home/jovyan/DATA/Misc'"
      ]
     },
     "execution_count": 6,
     "metadata": {},
     "output_type": "execute_result"
    }
   ],
   "source": [
    "pwd"
   ]
  },
  {
   "cell_type": "code",
   "execution_count": 7,
   "metadata": {},
   "outputs": [
    {
     "name": "stdout",
     "output_type": "stream",
     "text": [
      "total 756392\r\n",
      "drwxr-xr-x  2 root root      4096 Oct 18  2016 \u001b[0m\u001b[01;34m.\u001b[0m/\r\n",
      "drwxr-xr-x 12 root root      4096 May 23 04:52 \u001b[01;34m..\u001b[0m/\r\n",
      "-rwxr-xr-x  1 root root 755035667 Jul  8  2016 \u001b[01;32mAccidents7904.csv\u001b[0m*\r\n",
      "-rwxr-xr-x  1 root root  15205934 Jul  8  2016 \u001b[01;32mbmi_faculty_papers_details.json\u001b[0m*\r\n",
      "-rwxr-xr-x  1 root root     49361 Oct  4  2016 \u001b[01;32mcarotid.txt\u001b[0m*\r\n",
      "-rwxr-xr-x  1 root root   4060989 Jul  8  2016 \u001b[01;32mdoid.obo\u001b[0m*\r\n",
      "-rwxr-xr-x  1 root root     47428 Jun 21  2016 \u001b[01;32micd9-short.txt\u001b[0m*\r\n",
      "-rwxr-xr-x  1 root root      2745 Oct  4  2016 \u001b[01;32mobits.txt\u001b[0m*\r\n",
      "-rwxr-xr-x  1 root root     88113 Oct 18  2016 \u001b[01;32mpah_comorbidities.txt\u001b[0m*\r\n",
      "-rwxr-xr-x  1 root root     25600 Oct 18  2016 \u001b[01;32mseinfeldFood.sqlite\u001b[0m*\r\n"
     ]
    }
   ],
   "source": [
    "ls -la"
   ]
  },
  {
   "cell_type": "code",
   "execution_count": 8,
   "metadata": {},
   "outputs": [
    {
     "name": "stdout",
     "output_type": "stream",
     "text": [
      "/home/jovyan/DATA/Misc\n"
     ]
    }
   ],
   "source": [
    "cd /home/jovyan/DATA/Misc"
   ]
  },
  {
   "cell_type": "code",
   "execution_count": 9,
   "metadata": {},
   "outputs": [
    {
     "name": "stdout",
     "output_type": "stream",
     "text": [
      "\u001b[0m\u001b[01;34m.\u001b[0m/                                \u001b[01;32mcarotid.txt\u001b[0m*     \u001b[01;32mpah_comorbidities.txt\u001b[0m*\r\n",
      "\u001b[01;34m..\u001b[0m/                               \u001b[01;32mdoid.obo\u001b[0m*        \u001b[01;32mseinfeldFood.sqlite\u001b[0m*\r\n",
      "\u001b[01;32mAccidents7904.csv\u001b[0m*                \u001b[01;32micd9-short.txt\u001b[0m*\r\n",
      "\u001b[01;32mbmi_faculty_papers_details.json\u001b[0m*  \u001b[01;32mobits.txt\u001b[0m*\r\n"
     ]
    }
   ],
   "source": [
    "ls -a\n"
   ]
  },
  {
   "cell_type": "code",
   "execution_count": 12,
   "metadata": {},
   "outputs": [
    {
     "name": "stdout",
     "output_type": "stream",
     "text": [
      "mkdir: cannot create directory ‘OutbreakDetection’: Read-only file system\r\n"
     ]
    }
   ],
   "source": [
    "mkdir -p OutbreakDetection/ChiefComplaints\n"
   ]
  },
  {
   "cell_type": "code",
   "execution_count": 11,
   "metadata": {},
   "outputs": [
    {
     "name": "stdout",
     "output_type": "stream",
     "text": [
      "/home/jovyan/DATA/Misc\n"
     ]
    }
   ],
   "source": [
    "cd /home/jovyan/DATA/Misc\n"
   ]
  },
  {
   "cell_type": "code",
   "execution_count": 13,
   "metadata": {},
   "outputs": [
    {
     "ename": "SyntaxError",
     "evalue": "invalid syntax (<ipython-input-13-f513b10ed692>, line 2)",
     "output_type": "error",
     "traceback": [
      "\u001b[0;36m  File \u001b[0;32m\"<ipython-input-13-f513b10ed692>\"\u001b[0;36m, line \u001b[0;32m2\u001b[0m\n\u001b[0;31m    mkdir -p OutbreakDetection/ChiefComplaints\u001b[0m\n\u001b[0m                             ^\u001b[0m\n\u001b[0;31mSyntaxError\u001b[0m\u001b[0;31m:\u001b[0m invalid syntax\n"
     ]
    }
   ],
   "source": [
    "cd /home/jovyan/DATA/Misc\n",
    "mkdir -p OutbreakDetection/ChiefComplaints\n"
   ]
  },
  {
   "cell_type": "code",
   "execution_count": 14,
   "metadata": {},
   "outputs": [
    {
     "data": {
      "text/plain": [
       "'/home/jovyan/DATA/Misc'"
      ]
     },
     "execution_count": 14,
     "metadata": {},
     "output_type": "execute_result"
    }
   ],
   "source": [
    "pwd\n"
   ]
  },
  {
   "cell_type": "code",
   "execution_count": 15,
   "metadata": {},
   "outputs": [
    {
     "name": "stdout",
     "output_type": "stream",
     "text": [
      "mkdir: cannot create directory ‘OutbreakDetection’: Read-only file system\r\n"
     ]
    }
   ],
   "source": [
    "mkdir OutbreakDetection"
   ]
  },
  {
   "cell_type": "code",
   "execution_count": 16,
   "metadata": {},
   "outputs": [
    {
     "ename": "SyntaxError",
     "evalue": "invalid syntax (<ipython-input-16-869f9cd6976e>, line 1)",
     "output_type": "error",
     "traceback": [
      "\u001b[0;36m  File \u001b[0;32m\"<ipython-input-16-869f9cd6976e>\"\u001b[0;36m, line \u001b[0;32m1\u001b[0m\n\u001b[0;31m    chmod +X .\u001b[0m\n\u001b[0m              ^\u001b[0m\n\u001b[0;31mSyntaxError\u001b[0m\u001b[0;31m:\u001b[0m invalid syntax\n"
     ]
    }
   ],
   "source": [
    "chmod +X .\n"
   ]
  },
  {
   "cell_type": "code",
   "execution_count": 17,
   "metadata": {},
   "outputs": [
    {
     "data": {
      "text/plain": [
       "'/home/jovyan/DATA/Misc'"
      ]
     },
     "execution_count": 17,
     "metadata": {},
     "output_type": "execute_result"
    }
   ],
   "source": [
    "pwd\n"
   ]
  },
  {
   "cell_type": "code",
   "execution_count": 18,
   "metadata": {},
   "outputs": [
    {
     "name": "stdout",
     "output_type": "stream",
     "text": [
      "mkdir: cannot create directory ‘OutbreakDetection’: Read-only file system\r\n"
     ]
    }
   ],
   "source": [
    "mkdir OutbreakDetection\n"
   ]
  },
  {
   "cell_type": "code",
   "execution_count": 19,
   "metadata": {},
   "outputs": [
    {
     "name": "stdout",
     "output_type": "stream",
     "text": [
      "/home/jovyan\n"
     ]
    }
   ],
   "source": [
    "cd ~\n"
   ]
  },
  {
   "cell_type": "code",
   "execution_count": 20,
   "metadata": {},
   "outputs": [
    {
     "ename": "SyntaxError",
     "evalue": "invalid syntax (<ipython-input-20-b59666364567>, line 2)",
     "output_type": "error",
     "traceback": [
      "\u001b[0;36m  File \u001b[0;32m\"<ipython-input-20-b59666364567>\"\u001b[0;36m, line \u001b[0;32m2\u001b[0m\n\u001b[0;31m    mkdir -p OutbreakDetection/ChiefComplaints\u001b[0m\n\u001b[0m                             ^\u001b[0m\n\u001b[0;31mSyntaxError\u001b[0m\u001b[0;31m:\u001b[0m invalid syntax\n"
     ]
    }
   ],
   "source": [
    "cd\n",
    "mkdir -p OutbreakDetection/ChiefComplaints\n",
    "cd OutbreakDetection\n",
    "mkdir Obituaries\n",
    "mkdir Sales\n",
    "mkdir -p SocialMedia/Twitter"
   ]
  },
  {
   "cell_type": "code",
   "execution_count": 21,
   "metadata": {},
   "outputs": [
    {
     "ename": "SyntaxError",
     "evalue": "invalid syntax (<ipython-input-21-2cd3e6ca2bf8>, line 1)",
     "output_type": "error",
     "traceback": [
      "\u001b[0;36m  File \u001b[0;32m\"<ipython-input-21-2cd3e6ca2bf8>\"\u001b[0;36m, line \u001b[0;32m1\u001b[0m\n\u001b[0;31m    cd ~\u001b[0m\n\u001b[0m       ^\u001b[0m\n\u001b[0;31mSyntaxError\u001b[0m\u001b[0;31m:\u001b[0m invalid syntax\n"
     ]
    }
   ],
   "source": [
    "cd \n",
    "mkdir -p OutbreakDetection/ChiefComplaints\n",
    "cd OutbreakDetection\n",
    "mkdir Obituaries\n",
    "mkdir Sales\n",
    "mkdir -p SocialMedia/Twitter"
   ]
  },
  {
   "cell_type": "code",
   "execution_count": 22,
   "metadata": {},
   "outputs": [
    {
     "data": {
      "text/plain": [
       "'/home/jovyan'"
      ]
     },
     "execution_count": 22,
     "metadata": {},
     "output_type": "execute_result"
    }
   ],
   "source": [
    "pwd\n"
   ]
  },
  {
   "cell_type": "code",
   "execution_count": 23,
   "metadata": {},
   "outputs": [
    {
     "name": "stdout",
     "output_type": "stream",
     "text": [
      "/home/jovyan\n"
     ]
    }
   ],
   "source": [
    "cd "
   ]
  },
  {
   "cell_type": "code",
   "execution_count": 24,
   "metadata": {
    "collapsed": true
   },
   "outputs": [],
   "source": [
    "mkdir -p OutbreakDetection/ChiefComplaints"
   ]
  },
  {
   "cell_type": "code",
   "execution_count": 25,
   "metadata": {},
   "outputs": [
    {
     "name": "stdout",
     "output_type": "stream",
     "text": [
      "/home/jovyan/OutbreakDetection\n"
     ]
    }
   ],
   "source": [
    "cd OutbreakDetection"
   ]
  },
  {
   "cell_type": "code",
   "execution_count": 26,
   "metadata": {
    "collapsed": true
   },
   "outputs": [],
   "source": [
    "mkdir Obituaries"
   ]
  },
  {
   "cell_type": "code",
   "execution_count": 27,
   "metadata": {
    "collapsed": true
   },
   "outputs": [],
   "source": [
    "mkdir Sales"
   ]
  },
  {
   "cell_type": "code",
   "execution_count": null,
   "metadata": {
    "collapsed": true
   },
   "outputs": [],
   "source": []
  },
  {
   "cell_type": "code",
   "execution_count": 28,
   "metadata": {
    "collapsed": true
   },
   "outputs": [],
   "source": [
    "mkdir -p SocialMedia/Twitter"
   ]
  },
  {
   "cell_type": "code",
   "execution_count": 29,
   "metadata": {},
   "outputs": [
    {
     "ename": "NameError",
     "evalue": "name 'navigating_quizzes' is not defined",
     "output_type": "error",
     "traceback": [
      "\u001b[0;31m---------------------------------------------------------------------------\u001b[0m",
      "\u001b[0;31mNameError\u001b[0m                                 Traceback (most recent call last)",
      "\u001b[0;32m<ipython-input-29-108ccb66d4a7>\u001b[0m in \u001b[0;36m<module>\u001b[0;34m()\u001b[0m\n\u001b[0;32m----> 1\u001b[0;31m \u001b[0mnavigating_quizzes\u001b[0m\u001b[0;34m.\u001b[0m\u001b[0mmkdir_quiz\u001b[0m\u001b[0;34m(\u001b[0m\u001b[0;34m)\u001b[0m\u001b[0;34m\u001b[0m\u001b[0m\n\u001b[0m",
      "\u001b[0;31mNameError\u001b[0m: name 'navigating_quizzes' is not defined"
     ]
    }
   ],
   "source": [
    "navigating_quizzes.mkdir_quiz()"
   ]
  },
  {
   "cell_type": "code",
   "execution_count": 30,
   "metadata": {},
   "outputs": [
    {
     "data": {
      "text/plain": [
       "'/home/jovyan/OutbreakDetection'"
      ]
     },
     "execution_count": 30,
     "metadata": {},
     "output_type": "execute_result"
    }
   ],
   "source": [
    "pwd\n"
   ]
  },
  {
   "cell_type": "code",
   "execution_count": 31,
   "metadata": {},
   "outputs": [
    {
     "name": "stdout",
     "output_type": "stream",
     "text": [
      "total 16\r\n",
      "drwxr-xr-x 2 jovyan 4096 Jun 28 21:01 \u001b[0m\u001b[01;34mChiefComplaints\u001b[0m/\r\n",
      "drwxr-xr-x 2 jovyan 4096 Jun 28 21:01 \u001b[01;34mObituaries\u001b[0m/\r\n",
      "drwxr-xr-x 2 jovyan 4096 Jun 28 21:01 \u001b[01;34mSales\u001b[0m/\r\n",
      "drwxr-xr-x 3 jovyan 4096 Jun 28 21:01 \u001b[01;34mSocialMedia\u001b[0m/\r\n"
     ]
    }
   ],
   "source": [
    "ll"
   ]
  },
  {
   "cell_type": "code",
   "execution_count": 32,
   "metadata": {},
   "outputs": [
    {
     "ename": "SyntaxError",
     "evalue": "invalid syntax (<ipython-input-32-548b8448be0e>, line 1)",
     "output_type": "error",
     "traceback": [
      "\u001b[0;36m  File \u001b[0;32m\"<ipython-input-32-548b8448be0e>\"\u001b[0;36m, line \u001b[0;32m1\u001b[0m\n\u001b[0;31m    cd SocialMedia/\u001b[0m\n\u001b[0m                 ^\u001b[0m\n\u001b[0;31mSyntaxError\u001b[0m\u001b[0;31m:\u001b[0m invalid syntax\n"
     ]
    }
   ],
   "source": [
    "cd SocialMedia/\n",
    "pwd\n"
   ]
  },
  {
   "cell_type": "code",
   "execution_count": 33,
   "metadata": {},
   "outputs": [
    {
     "data": {
      "text/plain": [
       "'/home/jovyan/OutbreakDetection'"
      ]
     },
     "execution_count": 33,
     "metadata": {},
     "output_type": "execute_result"
    }
   ],
   "source": [
    "pwd\n"
   ]
  },
  {
   "cell_type": "code",
   "execution_count": 35,
   "metadata": {},
   "outputs": [
    {
     "ename": "SyntaxError",
     "evalue": "invalid syntax (<ipython-input-35-c2b443686055>, line 1)",
     "output_type": "error",
     "traceback": [
      "\u001b[0;36m  File \u001b[0;32m\"<ipython-input-35-c2b443686055>\"\u001b[0;36m, line \u001b[0;32m1\u001b[0m\n\u001b[0;31m    cd SocialMedia/\u001b[0m\n\u001b[0m                 ^\u001b[0m\n\u001b[0;31mSyntaxError\u001b[0m\u001b[0;31m:\u001b[0m invalid syntax\n"
     ]
    }
   ],
   "source": []
  },
  {
   "cell_type": "code",
   "execution_count": 36,
   "metadata": {},
   "outputs": [
    {
     "name": "stdout",
     "output_type": "stream",
     "text": [
      "/home/jovyan\n"
     ]
    }
   ],
   "source": [
    "cd \n"
   ]
  },
  {
   "cell_type": "code",
   "execution_count": 37,
   "metadata": {},
   "outputs": [
    {
     "name": "stdout",
     "output_type": "stream",
     "text": [
      "total 16\r\n",
      "drwxr-xr-x 12 root   4096 May 23 04:52 \u001b[0m\u001b[01;34mDATA\u001b[0m/\r\n",
      "drwxr-xr-x  4 jovyan 4096 Jun 26 22:57 \u001b[01;34mnotebook-extensions\u001b[0m/\r\n",
      "drwxr-xr-x  6 jovyan 4096 Jun 28 21:01 \u001b[01;34mOutbreakDetection\u001b[0m/\r\n",
      "drwxr-xr-x  5 jovyan 4096 Jun 28 19:57 \u001b[01;34mwork\u001b[0m/\r\n"
     ]
    }
   ],
   "source": [
    "ll"
   ]
  },
  {
   "cell_type": "code",
   "execution_count": 39,
   "metadata": {},
   "outputs": [],
   "source": [
    "rm -r OutbreakDetection/"
   ]
  },
  {
   "cell_type": "code",
   "execution_count": 40,
   "metadata": {},
   "outputs": [
    {
     "name": "stdout",
     "output_type": "stream",
     "text": [
      "\u001b[0m\u001b[01;34mDATA\u001b[0m/  \u001b[01;34mnotebook-extensions\u001b[0m/  \u001b[01;34mwork\u001b[0m/\r\n"
     ]
    }
   ],
   "source": [
    "ls"
   ]
  },
  {
   "cell_type": "code",
   "execution_count": 41,
   "metadata": {},
   "outputs": [
    {
     "name": "stdout",
     "output_type": "stream",
     "text": [
      "/home/jovyan/work\n"
     ]
    }
   ],
   "source": [
    "cd work/\n"
   ]
  },
  {
   "cell_type": "code",
   "execution_count": 42,
   "metadata": {
    "collapsed": true
   },
   "outputs": [],
   "source": [
    "mkdir-p OutbreakDetection/SocialMedia/Twitter"
   ]
  },
  {
   "cell_type": "code",
   "execution_count": 43,
   "metadata": {},
   "outputs": [
    {
     "name": "stdout",
     "output_type": "stream",
     "text": [
      "total 24\r\n",
      "drwxr-xr-x 6 jovyan 4096 Jun 28 20:00 \u001b[0m\u001b[01;34mdecart_bootcamp_part1\u001b[0m/\r\n",
      "-rw-r--r-- 1 root   9395 Jun 26 22:44 decart_welcome.ipynb\r\n",
      "drwxr-xr-x 2 root   4096 Jun 27 02:36 \u001b[01;34mmedia\u001b[0m/\r\n",
      "drwxr-xr-x 3 jovyan 4096 Jun 28 21:06 \u001b[01;34mOutbreakDetection\u001b[0m/\r\n"
     ]
    }
   ],
   "source": [
    "ll"
   ]
  },
  {
   "cell_type": "code",
   "execution_count": 44,
   "metadata": {},
   "outputs": [
    {
     "ename": "SyntaxError",
     "evalue": "invalid syntax (<ipython-input-44-7ceb3bb16e48>, line 1)",
     "output_type": "error",
     "traceback": [
      "\u001b[0;36m  File \u001b[0;32m\"<ipython-input-44-7ceb3bb16e48>\"\u001b[0;36m, line \u001b[0;32m1\u001b[0m\n\u001b[0;31m    cd OutbreakDetection/\u001b[0m\n\u001b[0m                       ^\u001b[0m\n\u001b[0;31mSyntaxError\u001b[0m\u001b[0;31m:\u001b[0m invalid syntax\n"
     ]
    }
   ],
   "source": [
    "cd OutbreakDetection/\n",
    "mkdir ChiefComplaints\n",
    "mkdir Obituaries\n",
    "mkdir Sales"
   ]
  },
  {
   "cell_type": "code",
   "execution_count": 45,
   "metadata": {},
   "outputs": [
    {
     "data": {
      "text/plain": [
       "'/home/jovyan/work'"
      ]
     },
     "execution_count": 45,
     "metadata": {},
     "output_type": "execute_result"
    }
   ],
   "source": [
    "pwd\n"
   ]
  },
  {
   "cell_type": "code",
   "execution_count": 46,
   "metadata": {},
   "outputs": [
    {
     "name": "stdout",
     "output_type": "stream",
     "text": [
      "/home/jovyan/work/OutbreakDetection\n"
     ]
    }
   ],
   "source": [
    "cd OutbreakDetection/\n"
   ]
  },
  {
   "cell_type": "code",
   "execution_count": 47,
   "metadata": {},
   "outputs": [
    {
     "ename": "SyntaxError",
     "evalue": "invalid syntax (<ipython-input-47-fe9e8012b835>, line 1)",
     "output_type": "error",
     "traceback": [
      "\u001b[0;36m  File \u001b[0;32m\"<ipython-input-47-fe9e8012b835>\"\u001b[0;36m, line \u001b[0;32m1\u001b[0m\n\u001b[0;31m    mkdir ChiefComplaints\u001b[0m\n\u001b[0m                        ^\u001b[0m\n\u001b[0;31mSyntaxError\u001b[0m\u001b[0;31m:\u001b[0m invalid syntax\n"
     ]
    }
   ],
   "source": [
    "mkdir ChiefComplaints\n",
    "mkdir Obituaries\n",
    "mkdir Sales"
   ]
  },
  {
   "cell_type": "code",
   "execution_count": 48,
   "metadata": {
    "collapsed": true
   },
   "outputs": [],
   "source": [
    "mkdir ChiefComplaints"
   ]
  },
  {
   "cell_type": "code",
   "execution_count": 49,
   "metadata": {
    "collapsed": true
   },
   "outputs": [],
   "source": [
    "mkdir Obituaries"
   ]
  },
  {
   "cell_type": "code",
   "execution_count": 50,
   "metadata": {
    "collapsed": true
   },
   "outputs": [],
   "source": [
    "mkdir Sales"
   ]
  },
  {
   "cell_type": "code",
   "execution_count": 51,
   "metadata": {},
   "outputs": [
    {
     "name": "stdout",
     "output_type": "stream",
     "text": [
      "total 16\r\n",
      "drwxr-xr-x 2 jovyan 4096 Jun 28 21:08 \u001b[0m\u001b[01;34mChiefComplaints\u001b[0m/\r\n",
      "drwxr-xr-x 2 jovyan 4096 Jun 28 21:08 \u001b[01;34mObituaries\u001b[0m/\r\n",
      "drwxr-xr-x 2 jovyan 4096 Jun 28 21:08 \u001b[01;34mSales\u001b[0m/\r\n",
      "drwxr-xr-x 3 jovyan 4096 Jun 28 21:06 \u001b[01;34mSocialMedia\u001b[0m/\r\n"
     ]
    }
   ],
   "source": [
    "ll\n"
   ]
  },
  {
   "cell_type": "code",
   "execution_count": 52,
   "metadata": {},
   "outputs": [
    {
     "name": "stdout",
     "output_type": "stream",
     "text": [
      "/home/jovyan/work/OutbreakDetection/SocialMedia\n"
     ]
    }
   ],
   "source": [
    "cd SocialMedia/"
   ]
  },
  {
   "cell_type": "code",
   "execution_count": 53,
   "metadata": {},
   "outputs": [
    {
     "name": "stdout",
     "output_type": "stream",
     "text": [
      "total 4\r\n",
      "drwxr-xr-x 2 jovyan 4096 Jun 28 21:06 \u001b[0m\u001b[01;34mTwitter\u001b[0m/\r\n"
     ]
    }
   ],
   "source": [
    "ll\n"
   ]
  },
  {
   "cell_type": "code",
   "execution_count": 54,
   "metadata": {},
   "outputs": [
    {
     "data": {
      "text/plain": [
       "'/home/jovyan/work/OutbreakDetection/SocialMedia'"
      ]
     },
     "execution_count": 54,
     "metadata": {},
     "output_type": "execute_result"
    }
   ],
   "source": [
    "pwd\n"
   ]
  },
  {
   "cell_type": "code",
   "execution_count": 55,
   "metadata": {},
   "outputs": [
    {
     "name": "stdout",
     "output_type": "stream",
     "text": [
      "/home/jovyan/work/OutbreakDetection\n"
     ]
    }
   ],
   "source": [
    "cd .."
   ]
  },
  {
   "cell_type": "code",
   "execution_count": 56,
   "metadata": {},
   "outputs": [
    {
     "ename": "SyntaxError",
     "evalue": "invalid syntax (<ipython-input-56-7cb6167699f5>, line 1)",
     "output_type": "error",
     "traceback": [
      "\u001b[0;36m  File \u001b[0;32m\"<ipython-input-56-7cb6167699f5>\"\u001b[0;36m, line \u001b[0;32m1\u001b[0m\n\u001b[0;31m    touch README.md\u001b[0m\n\u001b[0m               ^\u001b[0m\n\u001b[0;31mSyntaxError\u001b[0m\u001b[0;31m:\u001b[0m invalid syntax\n"
     ]
    }
   ],
   "source": [
    "touch README.md"
   ]
  },
  {
   "cell_type": "code",
   "execution_count": 57,
   "metadata": {},
   "outputs": [
    {
     "ename": "SyntaxError",
     "evalue": "invalid syntax (<ipython-input-57-a7627be9d944>, line 1)",
     "output_type": "error",
     "traceback": [
      "\u001b[0;36m  File \u001b[0;32m\"<ipython-input-57-a7627be9d944>\"\u001b[0;36m, line \u001b[0;32m1\u001b[0m\n\u001b[0;31m    echo \"# Outbreak Detector\" >README.md\u001b[0m\n\u001b[0m                             ^\u001b[0m\n\u001b[0;31mSyntaxError\u001b[0m\u001b[0;31m:\u001b[0m invalid syntax\n"
     ]
    }
   ],
   "source": [
    "echo \"# Outbreak Detector\" >README.md"
   ]
  },
  {
   "cell_type": "code",
   "execution_count": 58,
   "metadata": {},
   "outputs": [
    {
     "name": "stdout",
     "output_type": "stream",
     "text": [
      "total 16\r\n",
      "drwxr-xr-x 2 jovyan 4096 Jun 28 21:08 \u001b[0m\u001b[01;34mChiefComplaints\u001b[0m/\r\n",
      "drwxr-xr-x 2 jovyan 4096 Jun 28 21:08 \u001b[01;34mObituaries\u001b[0m/\r\n",
      "drwxr-xr-x 2 jovyan 4096 Jun 28 21:08 \u001b[01;34mSales\u001b[0m/\r\n",
      "drwxr-xr-x 3 jovyan 4096 Jun 28 21:06 \u001b[01;34mSocialMedia\u001b[0m/\r\n"
     ]
    }
   ],
   "source": [
    "ll"
   ]
  },
  {
   "cell_type": "code",
   "execution_count": 59,
   "metadata": {},
   "outputs": [
    {
     "data": {
      "text/plain": [
       "'/home/jovyan/work/OutbreakDetection'"
      ]
     },
     "execution_count": 59,
     "metadata": {},
     "output_type": "execute_result"
    }
   ],
   "source": [
    "pwd"
   ]
  },
  {
   "cell_type": "code",
   "execution_count": 60,
   "metadata": {},
   "outputs": [
    {
     "ename": "NameError",
     "evalue": "name 'echo' is not defined",
     "output_type": "error",
     "traceback": [
      "\u001b[0;31m---------------------------------------------------------------------------\u001b[0m",
      "\u001b[0;31mNameError\u001b[0m                                 Traceback (most recent call last)",
      "\u001b[0;32m<ipython-input-60-67251addf3aa>\u001b[0m in \u001b[0;36m<module>\u001b[0;34m()\u001b[0m\n\u001b[0;32m----> 1\u001b[0;31m \u001b[0mecho\u001b[0m \u001b[0;31m# Outbreak Detector > README.md\u001b[0m\u001b[0;34m\u001b[0m\u001b[0m\n\u001b[0m",
      "\u001b[0;31mNameError\u001b[0m: name 'echo' is not defined"
     ]
    }
   ],
   "source": [
    "echo # Outbreak Detector > README.md"
   ]
  },
  {
   "cell_type": "code",
   "execution_count": 61,
   "metadata": {},
   "outputs": [
    {
     "ename": "SyntaxError",
     "evalue": "invalid syntax (<ipython-input-61-1c5b924f929d>, line 1)",
     "output_type": "error",
     "traceback": [
      "\u001b[0;36m  File \u001b[0;32m\"<ipython-input-61-1c5b924f929d>\"\u001b[0;36m, line \u001b[0;32m1\u001b[0m\n\u001b[0;31m    echo \"# Outbreak Detector\" > README.md\u001b[0m\n\u001b[0m                             ^\u001b[0m\n\u001b[0;31mSyntaxError\u001b[0m\u001b[0;31m:\u001b[0m invalid syntax\n"
     ]
    }
   ],
   "source": [
    "echo \"# Outbreak Detector\" > README.md"
   ]
  },
  {
   "cell_type": "code",
   "execution_count": 62,
   "metadata": {},
   "outputs": [
    {
     "ename": "SyntaxError",
     "evalue": "invalid syntax (<ipython-input-62-46836e8b2905>, line 1)",
     "output_type": "error",
     "traceback": [
      "\u001b[0;36m  File \u001b[0;32m\"<ipython-input-62-46836e8b2905>\"\u001b[0;36m, line \u001b[0;32m1\u001b[0m\n\u001b[0;31m    echo \"# Outbreak Detector\" > README.md\u001b[0m\n\u001b[0m                             ^\u001b[0m\n\u001b[0;31mSyntaxError\u001b[0m\u001b[0;31m:\u001b[0m invalid syntax\n"
     ]
    }
   ],
   "source": [
    "echo \"# Outbreak Detector\" > README.md\n",
    "echo This directory contains data for developing an outbreak detector. >> README.md"
   ]
  },
  {
   "cell_type": "code",
   "execution_count": 63,
   "metadata": {
    "collapsed": true
   },
   "outputs": [],
   "source": [
    "%%bash \n",
    "echo \"# Outbreak Detector\" > README.md\n",
    "echo This directory contains data for developing an outbreak detector. >> README.md"
   ]
  },
  {
   "cell_type": "code",
   "execution_count": 64,
   "metadata": {},
   "outputs": [
    {
     "name": "stdout",
     "output_type": "stream",
     "text": [
      "# Outbreak Detector\r\n",
      "This directory contains data for developing an outbreak detector.\r\n"
     ]
    }
   ],
   "source": [
    "cat README.md"
   ]
  },
  {
   "cell_type": "code",
   "execution_count": 65,
   "metadata": {},
   "outputs": [
    {
     "name": "stdout",
     "output_type": "stream",
     "text": [
      "total 20\r\n",
      "drwxr-xr-x 2 jovyan 4096 Jun 28 21:08 \u001b[0m\u001b[01;34mChiefComplaints\u001b[0m/\r\n",
      "drwxr-xr-x 2 jovyan 4096 Jun 28 21:08 \u001b[01;34mObituaries\u001b[0m/\r\n",
      "-rw-r--r-- 1 jovyan   86 Jun 28 21:26 README.md\r\n",
      "drwxr-xr-x 2 jovyan 4096 Jun 28 21:08 \u001b[01;34mSales\u001b[0m/\r\n",
      "drwxr-xr-x 3 jovyan 4096 Jun 28 21:06 \u001b[01;34mSocialMedia\u001b[0m/\r\n"
     ]
    }
   ],
   "source": [
    "ll"
   ]
  },
  {
   "cell_type": "code",
   "execution_count": 66,
   "metadata": {},
   "outputs": [
    {
     "name": "stdout",
     "output_type": "stream",
     "text": [
      "total 20\r\n",
      "drwxr-xr-x 2 jovyan 4096 Jun 28 21:08 \u001b[0m\u001b[01;34mChiefComplaints\u001b[0m/\r\n",
      "drwxr-xr-x 2 jovyan 4096 Jun 28 21:08 \u001b[01;34mObituaries\u001b[0m/\r\n",
      "-rw-r--r-- 1 jovyan   86 Jun 28 21:26 README.md\r\n",
      "drwxr-xr-x 2 jovyan 4096 Jun 28 21:08 \u001b[01;34mSales\u001b[0m/\r\n",
      "drwxr-xr-x 3 jovyan 4096 Jun 28 21:06 \u001b[01;34mSocialMedia\u001b[0m/\r\n"
     ]
    }
   ],
   "source": [
    "ll"
   ]
  },
  {
   "cell_type": "code",
   "execution_count": 67,
   "metadata": {
    "collapsed": true
   },
   "outputs": [],
   "source": [
    "%%bash\n",
    "mv Sales/ DrugSales"
   ]
  },
  {
   "cell_type": "code",
   "execution_count": 68,
   "metadata": {},
   "outputs": [
    {
     "name": "stdout",
     "output_type": "stream",
     "text": [
      "total 20\r\n",
      "drwxr-xr-x 2 jovyan 4096 Jun 28 21:08 \u001b[0m\u001b[01;34mChiefComplaints\u001b[0m/\r\n",
      "drwxr-xr-x 2 jovyan 4096 Jun 28 21:08 \u001b[01;34mDrugSales\u001b[0m/\r\n",
      "drwxr-xr-x 2 jovyan 4096 Jun 28 21:08 \u001b[01;34mObituaries\u001b[0m/\r\n",
      "-rw-r--r-- 1 jovyan   86 Jun 28 21:26 README.md\r\n",
      "drwxr-xr-x 3 jovyan 4096 Jun 28 21:06 \u001b[01;34mSocialMedia\u001b[0m/\r\n"
     ]
    }
   ],
   "source": [
    "ll"
   ]
  },
  {
   "cell_type": "code",
   "execution_count": 69,
   "metadata": {},
   "outputs": [
    {
     "ename": "SyntaxError",
     "evalue": "invalid syntax (<ipython-input-69-712df2ef9ee3>, line 1)",
     "output_type": "error",
     "traceback": [
      "\u001b[0;36m  File \u001b[0;32m\"<ipython-input-69-712df2ef9ee3>\"\u001b[0;36m, line \u001b[0;32m1\u001b[0m\n\u001b[0;31m    cd ..\u001b[0m\n\u001b[0m        ^\u001b[0m\n\u001b[0;31mSyntaxError\u001b[0m\u001b[0;31m:\u001b[0m invalid syntax\n"
     ]
    }
   ],
   "source": [
    "cd ..\n",
    "ll\n"
   ]
  },
  {
   "cell_type": "code",
   "execution_count": 70,
   "metadata": {},
   "outputs": [
    {
     "name": "stderr",
     "output_type": "stream",
     "text": [
      "bash: line 2: ll: command not found\n"
     ]
    }
   ],
   "source": [
    "%%bash\n",
    "cd ..\n",
    "ll"
   ]
  },
  {
   "cell_type": "code",
   "execution_count": 71,
   "metadata": {
    "collapsed": true
   },
   "outputs": [],
   "source": [
    "%%bash\n",
    "cd "
   ]
  },
  {
   "cell_type": "code",
   "execution_count": 73,
   "metadata": {},
   "outputs": [
    {
     "name": "stdout",
     "output_type": "stream",
     "text": [
      "ChiefComplaints\n",
      "DrugSales\n",
      "Obituaries\n",
      "README.md\n",
      "SocialMedia\n"
     ]
    }
   ],
   "source": [
    "%%bash\n",
    "ls"
   ]
  },
  {
   "cell_type": "code",
   "execution_count": 74,
   "metadata": {
    "collapsed": true
   },
   "outputs": [],
   "source": [
    "%%bash \n",
    "cd .."
   ]
  },
  {
   "cell_type": "code",
   "execution_count": 75,
   "metadata": {},
   "outputs": [
    {
     "data": {
      "text/plain": [
       "'/home/jovyan/work/OutbreakDetection'"
      ]
     },
     "execution_count": 75,
     "metadata": {},
     "output_type": "execute_result"
    }
   ],
   "source": [
    "pwd"
   ]
  },
  {
   "cell_type": "code",
   "execution_count": 76,
   "metadata": {},
   "outputs": [
    {
     "name": "stdout",
     "output_type": "stream",
     "text": [
      "/home/jovyan/work\n"
     ]
    }
   ],
   "source": [
    "%%bash \n",
    "cd ..\n",
    "pwd\n"
   ]
  },
  {
   "cell_type": "code",
   "execution_count": 80,
   "metadata": {},
   "outputs": [
    {
     "name": "stdout",
     "output_type": "stream",
     "text": [
      "decart_bootcamp_part1\n",
      "decart_welcome.ipynb\n",
      "media\n",
      "OutbreakDetection\n"
     ]
    }
   ],
   "source": [
    "%%bash\n",
    "cd ..\n",
    "ls"
   ]
  },
  {
   "cell_type": "code",
   "execution_count": 81,
   "metadata": {
    "collapsed": true
   },
   "outputs": [],
   "source": [
    "%%bash\n",
    "cp /home/jovyan/DATA/Misc/obits.txt Obituaries/obits.txt\n"
   ]
  },
  {
   "cell_type": "code",
   "execution_count": 82,
   "metadata": {},
   "outputs": [
    {
     "name": "stdout",
     "output_type": "stream",
     "text": [
      "\u001b[0m\u001b[01;34mChiefComplaints\u001b[0m/  \u001b[01;34mDrugSales\u001b[0m/  \u001b[01;34mObituaries\u001b[0m/  README.md  \u001b[01;34mSocialMedia\u001b[0m/\r\n"
     ]
    }
   ],
   "source": [
    "ls"
   ]
  },
  {
   "cell_type": "code",
   "execution_count": 86,
   "metadata": {},
   "outputs": [
    {
     "name": "stdout",
     "output_type": "stream",
     "text": [
      "obits.txt\n",
      "10/18/01\r\n",
      "BAIRD, Alice O., 96, of Pine, died Oct. 16. King Funeral Home, Hampton. (DN) \r\n",
      "BECKER, Patricia Joan, 68, of West Deer, died Oct. 16. King Funeral Home, Hampton. (DN) \r\n",
      "BELKE, Ronald, died Oct. 13. Thomas J. Gmiter Funeral Home, South Side. (DN) \r\n",
      "BELKE, Irene, died Oct. 13. Thomas J. Gmiter Funeral Home, South Side. (DN) \r\n",
      "BRADBURN, Arlene A., died Oct. 16. William Slater II Funeral Services, Scott. (DN) \r\n",
      "BRAUN, Justina F., 92, of McKees Rocks, died Oct. 15. McKees Rocks Funeral Home, McKees Rocks. (DN) \r\n",
      "BROWN, Dorothy C., 77, died Oct. 16. Rowland S. Cooke Funeral Home, East End. (DN) \r\n",
      "CHERNEGA, Mary M., 83, of East Pittsburgh, died Oct. 17. Patrick T. Lanigan Funeral Home, East Pittsburgh. (DN) \r\n",
      "CLOUSE, Walter J., 79, of Fox chapel, died Oct. 17. Weddell-Ajak Funeral Home, Aspinwall. (DN) \r\n",
      "DRURY, Anna H., 93, of Mount Washington, died Oct. 15. Daniel T. D'Alessandro Funeral Home, Lawrenceville. (DN) \r\n",
      "DUBOSKY, Mary Hotsur, 85, of North Huntingdon, died Oct. 16. William Snyder Funeral Home. \r\n",
      "EWART, Arthur E., of Penn Hill, died Oct. 17. Burket-Truby Funeral Home, Oakmont. (DN) \r\n",
      "FARKAS, Laura, of South Side, died Oct. 15. John J. Gmiter Funeral Home, South Side. (DN) \r\n",
      "FLEMING, Howard Lee, 66, of South Park, died Oct. 15. Kegel Funeral Home, Finleyville, Washington County. (DN) \r\n",
      "GAMBLE, Albert R., 87, of Oakmont, died Oct. 17. James C. Stump Funeral Home, Rostraver. (DN) \r\n",
      "GIDDANS, Donald, of Wilkinsburg, died Oct. 17. Spriggs-Watson Funeral Home, Homewood. \r\n",
      "GOLDBERG, Elaine Unger, 73, of Squirrel Hill, died Oct. 14. Ralph Schugar Chapel, Shadyside. (DN) \r\n",
      "GREGO, Kimberly A., 40, of Millvale, died Oct. 16. Healy-Haun Funeral Home, Millvale. (DN) \r\n",
      "McCUE, Cletus, 67, of Lawrenceville, died Oct. 15. Daniel T. D'Alessandro Funeral Home, Lawrenceville. (DN) \r\n",
      "McMULLAN, Bernard L., 53, of Brookline, died Oct. 17. Beinhauer's, Beechview. (DN) \r\n",
      "10/16/01\r\n",
      "ACKLIN, William H., 88, of South Fayette, died Oct. 14. Eugene C. Coleman Funeral Home, Washington County. (DN) \r\n",
      "BEGLY, Laurel M., of Brookline, died Oct. 14. Beinhauer's, Beechview. (DN) \r\n",
      "BOCK, Albert J., 75, of Allentown, died Oct. 13. James J. Barry Jr. Funeral Home, Allentown. (DN) \r\n",
      "CARR, Alberta Weaver, of Etna, died Oct. 14. Frank R. Perman Funeral Home, Shaler. (DN) \r\n",
      "CHARNOCK, Ruth A., of Avalon, died Oct. 15. Lawrence T. Miller Funeral Home, Bellevue. (DN) \r\n",
      "CHINCHILLA, Cecilia C., 74, died Oct. 13. John Syka Funeral Home, Ambridge. (DN) \r\n",
      "CRATSA, Steve, 79, of Penn Hills, died Oct. 14. Thomas D. English Funeral Home, Oakmont. (DN) \r\n",
      "CUNLIFFE, Grace Stotler, 72, of Plum, died Oct. 14. Maurice L. Knee Funeral Home, Plum. (DN) \r\n",
      "CUNNINGHAM, Leo H., 55, of North Side, died Oct. 14. Schellhaas Funeral Home, North Side. (DN) "
     ]
    }
   ],
   "source": [
    "%%bash\n",
    "cd Obituaries/\n",
    "ls\n",
    "cat obits.txt"
   ]
  },
  {
   "cell_type": "code",
   "execution_count": 89,
   "metadata": {},
   "outputs": [],
   "source": [
    "%%bash \n",
    "cp -r /home/jovyan/work/OutbreakDetection ~/outbreakDetectionBackup"
   ]
  },
  {
   "cell_type": "code",
   "execution_count": 90,
   "metadata": {},
   "outputs": [
    {
     "name": "stdout",
     "output_type": "stream",
     "text": [
      "contributors.txt\n",
      "DATA\n",
      "home_directory.txt\n",
      "notebook-extensions\n",
      "outbreakDetectionBackup\n",
      "work\n"
     ]
    }
   ],
   "source": [
    "%%bash \n",
    "cd ~\n",
    "ls"
   ]
  },
  {
   "cell_type": "code",
   "execution_count": 91,
   "metadata": {},
   "outputs": [
    {
     "name": "stderr",
     "output_type": "stream",
     "text": [
      "mv: cannot stat ‘outbreakDetectionBackup’: No such file or directory\n"
     ]
    }
   ],
   "source": [
    "%%bash \n",
    "mv outbreakDetectionBackup OutbreakDetectionBackup"
   ]
  },
  {
   "cell_type": "code",
   "execution_count": 105,
   "metadata": {},
   "outputs": [
    {
     "name": "stdout",
     "output_type": "stream",
     "text": [
      "contributors.txt\n",
      "DATA\n",
      "home_directory.txt\n",
      "notebook-extensions\n",
      "OutbreakDetectionBackup\n",
      "work\n",
      "contributors.txt\n",
      "DATA\n",
      "home_directory.txt\n",
      "notebook-extensions\n",
      "OutbreakDetectionBackup\n",
      "work\n"
     ]
    },
    {
     "name": "stderr",
     "output_type": "stream",
     "text": [
      "mv: cannot stat ‘outbreakDetectionBackup’: No such file or directory\n"
     ]
    }
   ],
   "source": [
    "%%bash \n",
    "cd ~\n",
    "ls\n",
    "mv outbreakDetectionBackup OutbreakDetectionBackup\n",
    "ls"
   ]
  },
  {
   "cell_type": "code",
   "execution_count": 107,
   "metadata": {},
   "outputs": [
    {
     "name": "stdout",
     "output_type": "stream",
     "text": [
      "AirQuality\n",
      "Bioinf\n",
      "DBs\n",
      "Graphs\n",
      "Images\n",
      "Misc\n",
      "NLP_Section\n",
      "Numerics\n",
      "README.txt\n",
      "Slides\n",
      "TimeSeries\n"
     ]
    }
   ],
   "source": [
    "%%bash\n",
    "cd /home/jovyan/DATA \n",
    "ls"
   ]
  },
  {
   "cell_type": "code",
   "execution_count": null,
   "metadata": {
    "collapsed": true
   },
   "outputs": [],
   "source": []
  }
 ],
 "metadata": {
  "kernelspec": {
   "display_name": "Python 3",
   "language": "python",
   "name": "python3"
  },
  "language_info": {
   "codemirror_mode": {
    "name": "ipython",
    "version": 3
   },
   "file_extension": ".py",
   "mimetype": "text/x-python",
   "name": "python",
   "nbconvert_exporter": "python",
   "pygments_lexer": "ipython3",
   "version": "3.5.2"
  }
 },
 "nbformat": 4,
 "nbformat_minor": 2
}
