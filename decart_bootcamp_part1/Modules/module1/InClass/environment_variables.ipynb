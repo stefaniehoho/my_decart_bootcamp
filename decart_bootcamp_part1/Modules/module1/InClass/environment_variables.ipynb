{
 "cells": [
  {
   "cell_type": "markdown",
   "metadata": {},
   "source": [
    "## Environment Variables\n",
    "\n",
    ">Environment variables are a set of dynamic named values that can affect the way running processes will behave on a computer.\n",
    "\n",
    ">They are part of the environment in which a process runs. For example, a running process can query the value of the TEMP environment variable to discover a suitable location to store temporary files, or the HOME or USERPROFILE variable to find the directory structure owned by the user running the process.\n",
    "\n",
    ">They were introduced in their modern form in 1979 with Version 7 Unix, so are included in all Unix operating system flavors and variants from that point onward including Linux and OS X. From PC DOS 2.0 in 1982, all succeeding Microsoft operating systems including Microsoft Windows, and OS/2 also have included them as a feature, although with somewhat different syntax, usage and standard variable names. ([Wikipedia](https://en.wikipedia.org/wiki/Environment_variable))\n",
    "\n"
   ]
  },
  {
   "cell_type": "markdown",
   "metadata": {},
   "source": [
    "## Two Important Environment Variables\n",
    "\n",
    "* ``HOME``: contains the home directory for the current user.\n",
    "* ``PATH``: ``PATH`` is the environment variable that tells your computer which directories to search for exectuable programs. I can see the value of a variable by typing ``echo $VARIABLE_NAME``."
   ]
  },
  {
   "cell_type": "code",
   "execution_count": 1,
   "metadata": {},
   "outputs": [
    {
     "name": "stdout",
     "output_type": "stream",
     "text": [
      "/home/jovyan\n",
      "/opt/conda/bin:/usr/local/sbin:/usr/local/bin:/usr/sbin:/usr/bin:/sbin:/bin\n"
     ]
    }
   ],
   "source": [
    "%%bash\n",
    "echo $HOME\n",
    "echo $PATH"
   ]
  },
  {
   "cell_type": "markdown",
   "metadata": {},
   "source": [
    "For ``PATH`` what we see is a colon separated list of directories. If I want to run an executable program, for example python, the way ``PATH`` is used is the computer looks in the first directory in ``PATH`` for an executable named ``python``. If it finds it, the program ``python`` in that directory is executed. If it is not found, then it goes to the next directory in ``PATH`` and so on. If all of ``PATH`` is searched and no matching executable is found, you will get an error message: \"CMD: command not found\". I can use the Unix command ``which`` to tell me where in the ``PATH`` a particular program was found. Here are some examples.  "
   ]
  },
  {
   "cell_type": "code",
   "execution_count": 2,
   "metadata": {},
   "outputs": [
    {
     "name": "stdout",
     "output_type": "stream",
     "text": [
      "/opt/conda/bin/python\n"
     ]
    }
   ],
   "source": [
    "%%bash\n",
    "which python"
   ]
  },
  {
   "cell_type": "code",
   "execution_count": 3,
   "metadata": {},
   "outputs": [
    {
     "name": "stdout",
     "output_type": "stream",
     "text": [
      "/usr/bin/awk\n"
     ]
    }
   ],
   "source": [
    "%%bash\n",
    "which awk"
   ]
  },
  {
   "cell_type": "code",
   "execution_count": 4,
   "metadata": {
    "collapsed": true
   },
   "outputs": [],
   "source": [
    "%%bash\n",
    "which ziggy"
   ]
  },
  {
   "cell_type": "code",
   "execution_count": null,
   "metadata": {
    "collapsed": true
   },
   "outputs": [],
   "source": [
    "%%bash\n",
    "ziggy"
   ]
  },
  {
   "cell_type": "markdown",
   "metadata": {},
   "source": [
    "We can use the ``set`` command to see what environment variables are set."
   ]
  },
  {
   "cell_type": "code",
   "execution_count": 5,
   "metadata": {},
   "outputs": [
    {
     "name": "stdout",
     "output_type": "stream",
     "text": [
      "BASH=/bin/bash\n",
      "BASHOPTS=cmdhist:complete_fullquote:extquote:force_fignore:hostcomplete:interactive_comments:progcomp:promptvars:sourcepath\n",
      "BASH_ALIASES=()\n",
      "BASH_ARGC=()\n",
      "BASH_ARGV=()\n",
      "BASH_CMDS=()\n",
      "BASH_LINENO=()\n",
      "BASH_SOURCE=()\n",
      "BASH_VERSINFO=([0]=\"4\" [1]=\"3\" [2]=\"30\" [3]=\"1\" [4]=\"release\" [5]=\"x86_64-pc-linux-gnu\")\n",
      "BASH_VERSION='4.3.30(1)-release'\n",
      "CLICOLOR=1\n",
      "CONDA_DIR=/opt/conda\n",
      "DEBIAN_FRONTEND=noninteractive\n",
      "DIRSTACK=()\n",
      "EUID=1000\n",
      "GIT_PAGER=cat\n",
      "GROUPS=()\n",
      "HOME=/home/jovyan\n",
      "HOSTNAME=df55d1c3ac43\n",
      "HOSTTYPE=x86_64\n",
      "IFS=$' \\t\\n'\n",
      "JPY_BASE_URL=/user/stefaniehoho\n",
      "JPY_COOKIE_NAME=jupyter-hub-token-stefaniehoho\n",
      "JPY_HUB_API_URL=http://jupyterhub:8080/hub/api\n",
      "JPY_HUB_PREFIX=/hub/\n",
      "JPY_PARENT_PID=7\n",
      "JPY_USER=stefaniehoho\n",
      "JULIA_PKGDIR=/opt/julia\n",
      "LANG=en_US.UTF-8\n",
      "LANGUAGE=en_US.UTF-8\n",
      "LC_ALL=en_US.UTF-8\n",
      "MACHTYPE=x86_64-pc-linux-gnu\n",
      "MPLBACKEND=module://ipykernel.pylab.backend_inline\n",
      "NB_UID=1000\n",
      "NB_USER=jovyan\n",
      "NOTEBOOK_DIR=/home/jovyan/work\n",
      "OPTERR=1\n",
      "OPTIND=1\n",
      "OSTYPE=linux-gnu\n",
      "PAGER=cat\n",
      "PATH=/opt/conda/bin:/usr/local/sbin:/usr/local/bin:/usr/sbin:/usr/bin:/sbin:/bin\n",
      "PPID=360\n",
      "PS4='+ '\n",
      "PWD=/home/jovyan/work/decart_bootcamp_part1/Modules/module1/InClass\n",
      "SHELL=/bin/bash\n",
      "SHELLOPTS=braceexpand:hashall:interactive-comments\n",
      "SHLVL=1\n",
      "TERM=xterm-color\n",
      "UID=1000\n",
      "XDG_CACHE_HOME=/home/jovyan/.cache/\n",
      "_=bash\n"
     ]
    }
   ],
   "source": [
    "%%bash\n",
    "set"
   ]
  },
  {
   "cell_type": "markdown",
   "metadata": {},
   "source": [
    "#### Note the convetion that environment variables are all uppercase"
   ]
  },
  {
   "cell_type": "markdown",
   "metadata": {},
   "source": [
    "[Here](https://swcarpentry.github.io/shell-extras/08-environment-variables.html) is a very short tutorial that you can look over. You can play around with environment variables within the notebook (as I have done) or by opening a terminal.\n",
    "![Launching a terminal through Jupyter](../../../media/launching_terminal.png)"
   ]
  },
  {
   "cell_type": "markdown",
   "metadata": {},
   "source": [
    "## Creating new Environment Variables\n",
    "\n",
    "I can create an environment variable with a simple assingment. This will be a **local** variable, visible only to the current bash process."
   ]
  },
  {
   "cell_type": "code",
   "execution_count": 6,
   "metadata": {},
   "outputs": [
    {
     "name": "stdout",
     "output_type": "stream",
     "text": [
      "Brian\n",
      "\n",
      "BASH=/bin/bash\n",
      "BASHOPTS=cmdhist:complete_fullquote:extquote:force_fignore:hostcomplete:interactive_comments:progcomp:promptvars:sourcepath\n",
      "BASH_ALIASES=()\n",
      "BASH_ARGC=()\n",
      "BASH_ARGV=()\n",
      "BASH_CMDS=()\n",
      "BASH_LINENO=()\n",
      "BASH_SOURCE=()\n",
      "BASH_VERSINFO=([0]=\"4\" [1]=\"3\" [2]=\"30\" [3]=\"1\" [4]=\"release\" [5]=\"x86_64-pc-linux-gnu\")\n",
      "BASH_VERSION='4.3.30(1)-release'\n",
      "CLICOLOR=1\n",
      "CONDA_DIR=/opt/conda\n",
      "DEBIAN_FRONTEND=noninteractive\n",
      "DIRSTACK=()\n",
      "EUID=1000\n",
      "GIT_PAGER=cat\n",
      "GROUPS=()\n",
      "HOME=/home/jovyan\n",
      "HOSTNAME=df55d1c3ac43\n",
      "HOSTTYPE=x86_64\n",
      "IFS=$' \\t\\n'\n",
      "JPY_BASE_URL=/user/stefaniehoho\n",
      "JPY_COOKIE_NAME=jupyter-hub-token-stefaniehoho\n",
      "JPY_HUB_API_URL=http://jupyterhub:8080/hub/api\n",
      "JPY_HUB_PREFIX=/hub/\n",
      "JPY_PARENT_PID=7\n",
      "JPY_USER=stefaniehoho\n",
      "JULIA_PKGDIR=/opt/julia\n",
      "LANG=en_US.UTF-8\n",
      "LANGUAGE=en_US.UTF-8\n",
      "LC_ALL=en_US.UTF-8\n",
      "MACHTYPE=x86_64-pc-linux-gnu\n",
      "MPLBACKEND=module://ipykernel.pylab.backend_inline\n",
      "MYNAME=Brian\n",
      "NB_UID=1000\n",
      "NB_USER=jovyan\n",
      "NOTEBOOK_DIR=/home/jovyan/work\n",
      "OPTERR=1\n",
      "OPTIND=1\n",
      "OSTYPE=linux-gnu\n",
      "PAGER=cat\n",
      "PATH=/opt/conda/bin:/usr/local/sbin:/usr/local/bin:/usr/sbin:/usr/bin:/sbin:/bin\n",
      "PIPESTATUS=([0]=\"0\")\n",
      "PPID=360\n",
      "PS4='+ '\n",
      "PWD=/home/jovyan/work/decart_bootcamp_part1/Modules/module1/InClass\n",
      "SHELL=/bin/bash\n",
      "SHELLOPTS=braceexpand:hashall:interactive-comments\n",
      "SHLVL=1\n",
      "TERM=xterm-color\n",
      "UID=1000\n",
      "XDG_CACHE_HOME=/home/jovyan/.cache/\n",
      "_=echo\n",
      "*******************\n",
      "HOSTNAME=df55d1c3ac43\n",
      "TERM=xterm-color\n",
      "SHELL=/bin/bash\n",
      "NB_USER=jovyan\n",
      "CLICOLOR=1\n",
      "JPY_USER=stefaniehoho\n",
      "JPY_BASE_URL=/user/stefaniehoho\n",
      "LC_ALL=en_US.UTF-8\n",
      "JPY_PARENT_PID=7\n",
      "PAGER=cat\n",
      "PATH=/opt/conda/bin:/usr/local/sbin:/usr/local/bin:/usr/sbin:/usr/bin:/sbin:/bin\n",
      "PWD=/home/jovyan/work/decart_bootcamp_part1/Modules/module1/InClass\n",
      "JPY_HUB_PREFIX=/hub/\n",
      "MPLBACKEND=module://ipykernel.pylab.backend_inline\n",
      "JPY_HUB_API_URL=http://jupyterhub:8080/hub/api\n",
      "LANG=en_US.UTF-8\n",
      "JULIA_PKGDIR=/opt/julia\n",
      "JPY_COOKIE_NAME=jupyter-hub-token-stefaniehoho\n",
      "NOTEBOOK_DIR=/home/jovyan/work\n",
      "SHLVL=1\n",
      "HOME=/home/jovyan\n",
      "LANGUAGE=en_US.UTF-8\n",
      "XDG_CACHE_HOME=/home/jovyan/.cache/\n",
      "DEBIAN_FRONTEND=noninteractive\n",
      "CONDA_DIR=/opt/conda\n",
      "GIT_PAGER=cat\n",
      "NB_UID=1000\n",
      "_=/usr/bin/env\n"
     ]
    }
   ],
   "source": [
    "%%bash\n",
    "MYNAME=Brian\n",
    "echo $MYNAME\n",
    "echo\n",
    "set \n",
    "echo \"*******************\"\n",
    "env \n"
   ]
  },
  {
   "cell_type": "markdown",
   "metadata": {},
   "source": [
    "## Exporting an environment variable\n",
    "\n",
    "If I want to make a variable accessible to child processes, I need to **export** that variable. Exporting variables would be our standard practice.\n"
   ]
  },
  {
   "cell_type": "code",
   "execution_count": 7,
   "metadata": {},
   "outputs": [
    {
     "name": "stdout",
     "output_type": "stream",
     "text": [
      "Brian\n",
      "\n",
      "HOSTNAME=df55d1c3ac43\n",
      "TERM=xterm-color\n",
      "SHELL=/bin/bash\n",
      "NB_USER=jovyan\n",
      "CLICOLOR=1\n",
      "JPY_USER=stefaniehoho\n",
      "JPY_BASE_URL=/user/stefaniehoho\n",
      "LC_ALL=en_US.UTF-8\n",
      "JPY_PARENT_PID=7\n",
      "PAGER=cat\n",
      "PATH=/opt/conda/bin:/usr/local/sbin:/usr/local/bin:/usr/sbin:/usr/bin:/sbin:/bin\n",
      "PWD=/home/jovyan/work/decart_bootcamp_part1/Modules/module1/InClass\n",
      "JPY_HUB_PREFIX=/hub/\n",
      "MPLBACKEND=module://ipykernel.pylab.backend_inline\n",
      "JPY_HUB_API_URL=http://jupyterhub:8080/hub/api\n",
      "LANG=en_US.UTF-8\n",
      "JULIA_PKGDIR=/opt/julia\n",
      "JPY_COOKIE_NAME=jupyter-hub-token-stefaniehoho\n",
      "MYNAME=Brian\n",
      "NOTEBOOK_DIR=/home/jovyan/work\n",
      "SHLVL=1\n",
      "HOME=/home/jovyan\n",
      "LANGUAGE=en_US.UTF-8\n",
      "XDG_CACHE_HOME=/home/jovyan/.cache/\n",
      "DEBIAN_FRONTEND=noninteractive\n",
      "CONDA_DIR=/opt/conda\n",
      "GIT_PAGER=cat\n",
      "NB_UID=1000\n",
      "_=/usr/bin/env\n"
     ]
    }
   ],
   "source": [
    "%%bash\n",
    "export MYNAME=Brian\n",
    "echo $MYNAME\n",
    "echo\n",
    "env"
   ]
  },
  {
   "cell_type": "markdown",
   "metadata": {},
   "source": [
    "### All these changes are local\n",
    "#### If I start a different shell, ``MYNAME`` will not be defined"
   ]
  },
  {
   "cell_type": "code",
   "execution_count": 9,
   "metadata": {},
   "outputs": [
    {
     "name": "stdout",
     "output_type": "stream",
     "text": [
      "\n"
     ]
    }
   ],
   "source": [
    "%%bash\n",
    "echo $MYNAME"
   ]
  },
  {
   "cell_type": "markdown",
   "metadata": {},
   "source": [
    "## Modifying Existing Environment Variables\n",
    "\n",
    "The environment variable are mutable (they can change). This should be done cautiously, as you can easily render your system unusable."
   ]
  },
  {
   "cell_type": "code",
   "execution_count": 10,
   "metadata": {},
   "outputs": [
    {
     "name": "stdout",
     "output_type": "stream",
     "text": [
      "/home/jovyan\n",
      "\n",
      "/somwhere\n"
     ]
    }
   ],
   "source": [
    "%%bash\n",
    "echo $HOME\n",
    "echo\n",
    "HOME=/somwhere\n",
    "echo $HOME"
   ]
  },
  {
   "cell_type": "code",
   "execution_count": null,
   "metadata": {
    "collapsed": true
   },
   "outputs": [],
   "source": [
    "%%bash\n",
    "PATH=/home/jovyan/bin:/home/jovyan/DATA\n",
    "ls\n",
    "cat /home/jovyan/.bashrc\n",
    "python\n",
    "which\n",
    "cd ~\n",
    "pwd"
   ]
  },
  {
   "cell_type": "markdown",
   "metadata": {},
   "source": [
    "By changing the PATH variable, we have lost access to most of the Linux functions (e.g. ls, cat)"
   ]
  },
  {
   "cell_type": "markdown",
   "metadata": {},
   "source": [
    "### Modifying ``PATH``\n",
    "\n",
    "As described above, ``PATH`` is the variable that stores the list of directories that the operating system searches for executable programs. The way we will typically modify ``PATH`` is by pre-pending or appending directories to the existing ``PATH`` list. Pre-pending and appending can have radically different effects."
   ]
  },
  {
   "cell_type": "code",
   "execution_count": 11,
   "metadata": {
    "collapsed": true
   },
   "outputs": [],
   "source": [
    "%%bash\n",
    "#rm -r /home/jovyan/bin\n",
    "mkdir /home/jovyan/bin\n",
    "cp ./ls /home/jovyan/bin/.\n",
    "chmod +x /home/jovyan/bin/ls"
   ]
  },
  {
   "cell_type": "code",
   "execution_count": 12,
   "metadata": {},
   "outputs": [
    {
     "name": "stdout",
     "output_type": "stream",
     "text": [
      "hello\n"
     ]
    }
   ],
   "source": [
    "%%bash\n",
    "/home/jovyan/bin/ls"
   ]
  },
  {
   "cell_type": "code",
   "execution_count": 13,
   "metadata": {},
   "outputs": [
    {
     "name": "stdout",
     "output_type": "stream",
     "text": [
      "/bin/ls\n"
     ]
    }
   ],
   "source": [
    "%%bash\n",
    "which ls"
   ]
  },
  {
   "cell_type": "markdown",
   "metadata": {},
   "source": [
    "#### Now let's modify path by pre-pending ``/home/jovyan/bin``"
   ]
  },
  {
   "cell_type": "code",
   "execution_count": 14,
   "metadata": {},
   "outputs": [
    {
     "name": "stdout",
     "output_type": "stream",
     "text": [
      "/home/jovyan/bin/ls\n",
      "hello\n"
     ]
    }
   ],
   "source": [
    "%%bash\n",
    "\n",
    "PATH=/home/jovyan/bin:$PATH\n",
    "which ls\n",
    "ls /home/jovyan/DATA/Misc"
   ]
  },
  {
   "cell_type": "code",
   "execution_count": 15,
   "metadata": {},
   "outputs": [
    {
     "name": "stdout",
     "output_type": "stream",
     "text": [
      "/opt/conda/bin:/usr/local/sbin:/usr/local/bin:/usr/sbin:/usr/bin:/sbin:/bin\n",
      "/bin/ls\n",
      "Accidents7904.csv\n",
      "bmi_faculty_papers_details.json\n",
      "carotid.txt\n",
      "doid.obo\n",
      "icd9-short.txt\n",
      "obits.txt\n",
      "pah_comorbidities.txt\n",
      "seinfeldFood.sqlite\n"
     ]
    }
   ],
   "source": [
    "%%bash\n",
    "echo $PATH\n",
    "export PATH=$PATH:/home/jovyan/bin\n",
    "which ls\n",
    "ls /home/jovyan/DATA/Misc\n"
   ]
  },
  {
   "cell_type": "code",
   "execution_count": 16,
   "metadata": {},
   "outputs": [
    {
     "name": "stdout",
     "output_type": "stream",
     "text": [
      "/opt/conda/bin:/usr/local/sbin:/usr/local/bin:/usr/sbin:/usr/bin:/sbin:/bin\n"
     ]
    }
   ],
   "source": [
    "%%bash\n",
    "echo $PATH"
   ]
  },
  {
   "cell_type": "code",
   "execution_count": null,
   "metadata": {
    "collapsed": true
   },
   "outputs": [],
   "source": []
  }
 ],
 "metadata": {
  "kernelspec": {
   "display_name": "Python 3",
   "language": "python",
   "name": "python3"
  },
  "language_info": {
   "codemirror_mode": {
    "name": "ipython",
    "version": 3
   },
   "file_extension": ".py",
   "mimetype": "text/x-python",
   "name": "python",
   "nbconvert_exporter": "python",
   "pygments_lexer": "ipython3",
   "version": "3.5.2"
  }
 },
 "nbformat": 4,
 "nbformat_minor": 1
}
