{
 "cells": [
  {
   "cell_type": "markdown",
   "metadata": {},
   "source": [
    "<html>\n",
    "<table width=\"100%\" cellspacing=\"2\" cellpadding=\"2\" border=\"1\">\n",
    "<tbody>\n",
    "<tr>\n",
    "<td valign=\"center\" align=\"center\" width=\"25%\"><img src=\"../../../media/decartes.jpg\"\n",
    "alt=\"DeCART Icon\" width=\"128\" height=\"171\"><br>\n",
    "</td>\n",
    "<td valign=\"center\" align=\"center\" width=\"75%\">\n",
    "<h1 align=\"center\"><font size=\"+3\">DeCART Summer School<br>\n",
    "for<br>\n",
    "Biomedical Data Science</font></h1></td>\n",
    "<td valign=\"center\" align=\"center\" width=\"25%\"><img\n",
    "src=\"../../../media/U_Health_stacked_png_red.png\" alt=\"Utah Health\n",
    "Logo\" width=\"128\" height=\"134\"><br>\n",
    "</td>\n",
    "</tr>\n",
    "</tbody>\n",
    "</table>\n",
    "<br>\n",
    "</html>\n"
   ]
  },
  {
   "cell_type": "markdown",
   "metadata": {},
   "source": [
    "# Version Control\n",
    "\n",
    "## Why Version Control?\n",
    "\n",
    "* Have you ever written a paper, made changes, and decided you really liked your old version?\n",
    "    * Pitfalls of document-based version control\n",
    "* Have you ever used a program that worked before an update, but did not work after the update?\n",
    "    * Have you ever been the author of such a program?\n",
    "* Have you ever written a paper with somebody else?\n",
    "    \n",
    "## How Can We Do Version Control?\n",
    "\n",
    "* Number files\n",
    "* Copy to directories\n",
    "* Make a time-stamped tar file\n",
    "* Use version control software\n",
    "\n",
    "## Which Version Control?\n",
    "\n",
    "* [Control Version Software (CVS)](https://en.wikipedia.org/wiki/Concurrent_Versions_System)\n",
    "* [Subversion (svn)](https://en.wikipedia.org/wiki/Apache_Subversion)\n",
    "* [Mercurial (hg)](https://en.wikipedia.org/wiki/Mercurial)\n",
    "* [git](https://en.wikipedia.org/wiki/Git)\n",
    "\n",
    "## Where Can I use git?\n",
    "\n",
    "* Just on your computer\n",
    "* GitHub\n",
    "    * Free vs. Public\n",
    "* Bitbucket\n",
    "    * Free vs. Public\n",
    "* GitLab\n",
    "    * Open source (local installations)\n",
    "    * CHPC\n",
    "\n",
    "## What kind of data do I want to version control?\n",
    "* Non-binary data\n",
    "    * Files that can be \"diffed\"\n"
   ]
  },
  {
   "cell_type": "markdown",
   "metadata": {},
   "source": [
    "## Exercise\n",
    "\n",
    "``cd`` to the directory where we saved the various-quality versions of the ``04.jpg`` image and execute the following command:\n",
    "\n",
    "```bash\n",
    "diff 04.jpg 04_70.jpg\n",
    "```\n",
    "\n",
    "``cd`` to the ``/home/jovyan/work/nci``. With ``vim`` open ``var_citations.txt`` and delete some line (in command mode ``dd`` will delete the current line) and then save the file with a new name (``:w var_citations_edited.txt``).\n",
    "\n",
    "Now execute the following command:\n",
    "\n",
    "```bash\n",
    "diff var_citations.txt var_citations_edited.txt\n",
    "```\n",
    "\n",
    "#### What is the difference between the two ``diff`` commands?\n"
   ]
  },
  {
   "cell_type": "markdown",
   "metadata": {},
   "source": [
    "## Customizing Git\n",
    "\n",
    "* ``.gitignore``: Tell ``git`` what files to ignore (don't try to version control)\n",
    "* ``.gitattributes``:\n",
    "    * [``nbstripout``](https://pypi.python.org/pypi/nbstripout)\n",
    "    * Don't version control your notebook output!"
   ]
  },
  {
   "cell_type": "markdown",
   "metadata": {},
   "source": [
    "<a rel=\"license\" href=\"http://creativecommons.org/licenses/by-nc-sa/4.0/\"><img alt=\"Creative Commons License\" style=\"border-width:0\" src=\"https://i.creativecommons.org/l/by-nc-sa/4.0/88x31.png\" /></a><br /><span xmlns:dct=\"http://purl.org/dc/terms/\" property=\"dct:title\">University of Uah Data Science for Health</span> by <span xmlns:cc=\"http://creativecommons.org/ns#\" property=\"cc:attributionName\">Eric Bogenschutz, Thomas Sasani, Brian E. Chapman</span> is licensed under a <a rel=\"license\" href=\"http://creativecommons.org/licenses/by-nc-sa/4.0/\">Creative Commons Attribution-NonCommercial-ShareAlike 4.0 International License</a>."
   ]
  },
  {
   "cell_type": "code",
   "execution_count": null,
   "metadata": {},
   "outputs": [],
   "source": []
  }
 ],
 "metadata": {
  "kernelspec": {
   "display_name": "Python 3",
   "language": "python",
   "name": "python3"
  },
  "language_info": {
   "codemirror_mode": {
    "name": "ipython",
    "version": 3
   },
   "file_extension": ".py",
   "mimetype": "text/x-python",
   "name": "python",
   "nbconvert_exporter": "python",
   "pygments_lexer": "ipython3",
   "version": "3.5.2"
  }
 },
 "nbformat": 4,
 "nbformat_minor": 2
}
