{
 "cells": [
  {
   "cell_type": "markdown",
   "metadata": {
    "internals": {
     "slide_helper": "subslide_end",
     "slide_type": "subslide"
    },
    "slide_helper": "slide_end",
    "slideshow": {
     "slide_type": "slide"
    }
   },
   "source": [
    "# Using Graphs to Model Linked Data\n",
    "#### &copy; Brian E. Chapman, PhD\n",
    "\n",
    "In this module we will learn about how to model graph data with [NetworkX](http://networkx.readthedocs.io/en/latest/)"
   ]
  },
  {
   "cell_type": "code",
   "execution_count": 1,
   "metadata": {
    "collapsed": true,
    "internals": {
     "slide_type": "subslide"
    },
    "slideshow": {
     "slide_type": "slide"
    }
   },
   "outputs": [],
   "source": [
    "%matplotlib inline"
   ]
  },
  {
   "cell_type": "code",
   "execution_count": 2,
   "metadata": {
    "collapsed": true,
    "internals": {
     "slide_helper": "subslide_end"
    },
    "slide_helper": "slide_end",
    "slideshow": {
     "slide_type": "skip"
    }
   },
   "outputs": [],
   "source": [
    "import os\n",
    "DATADIR = os.path.join(os.path.expanduser('~'), \"DATA\")\n",
    "\n",
    "import networkx as nx\n",
    "import csv\n",
    "import imaplib\n",
    "import getpass\n",
    "import email\n",
    "from collections import defaultdict\n",
    "from IPython.display import Image\n"
   ]
  },
  {
   "cell_type": "markdown",
   "metadata": {
    "internals": {
     "slide_helper": "subslide_end",
     "slide_type": "subslide"
    },
    "slide_helper": "subslide_end",
    "slideshow": {
     "slide_type": "slide"
    }
   },
   "source": [
    "# Graphs\n",
    "\n",
    "\n",
    "* Graphs are a data representation consisting of **nodes** and **edges**\n",
    "* Nodes are entities\n",
    "* Edges are relationships\n",
    "* Examples\n",
    "    * Text:\n",
    "        * Nodes are words in sentence (e.g. findings, modifiers, conjuntions)\n",
    "        * Edges are relationships between the words\n",
    "    * Images:\n",
    "        * Nodes are antatomic features (e.g. bifurcations)\n",
    "        * Edges are adjacency.paths between features (e.g. vessels)\n",
    "    * Social Networks\n",
    "        * Nodes are people\n",
    "        * Edges are relationships (e.g. friendship, coauthorship)\n",
    "    * Physiology\n",
    "        * Brain connectivity\n",
    "        * Metabolic pathways\n",
    "    * Ontologies\n",
    "    \n",
    "## Example Graphs\n",
    "### Word Relationships\n",
    "![word relationships](./Resources/case005.png)\n",
    "\n",
    "### An *undirected* graph based on e-mails\n",
    "![email graph](./Resources/mainMail0075.png)\n",
    "\n",
    "### A *directed* graph from the human disease ontology\n",
    "![example disease graph](./Resources/disease_graphs.png)\n",
    "    \n",
    "## Python Graph Packages\n",
    "\n",
    "* [NetworkX:](http://networkx.github.io/) this is a very popular, easy to use package. Its advantage and disadvantage is that it is pure Python. Conseqeuntly, easy to use but relatively slow.\n",
    "* [graph-tool:](https://graph-tool.skewed.de/) \"Despite its nice, soft outer appearance of a regular python module, the core algorithms and data structures of graph-tool are written in C++, with performance in mind. Most of the time, you can expect the algorithms to run just as fast as if graph-tool were a pure C/C++ library.\"\n",
    "* [python-igraph:](http://igraph.org/python/) \"igraph is a collection of network analysis tools with the emphasis on efficiency, portability and ease of use. igraph is open source and free. igraph can be programmed in R, Python and C/C++.\""
   ]
  },
  {
   "cell_type": "markdown",
   "metadata": {
    "internals": {
     "slide_helper": "subslide_end",
     "slide_type": "subslide"
    },
    "slide_helper": "subslide_end",
    "slideshow": {
     "slide_type": "subslide"
    }
   },
   "source": [
    "# [NetworkX](http://networkx.github.io/)\n",
    "* Graphs (networkx.Graph())\n",
    "    * Edges (relationships) have no directionality\n",
    "* Directional Graphs (networkx.DiGraph())\n",
    "    * Edges (relationships) have directionality\n",
    "* MultiGraphs (networkx.MultiGraph(), networkx.MultiDiGraph() )\n",
    "    * There can be multiple edges between nodes \n",
    "* Graphs, nodes, and edges can all have attributes (dictionaries)\n",
    "    * Each node has a label\n",
    "    * Each node also has a dictionary (possibly empty) of attributes\n",
    "    * Each edge also has a label (the node labels defining the beginning and ending of the edge) \n",
    "    * Each edge also has a dictionary (possibly empty) of attributes\n",
    "    "
   ]
  },
  {
   "cell_type": "markdown",
   "metadata": {},
   "source": [
    "## Creating graphs is a matter of adding nodes and edges\n",
    "\n",
    "* If we add an edge it will add a node, if needed."
   ]
  },
  {
   "cell_type": "code",
   "execution_count": 3,
   "metadata": {},
   "outputs": [
    {
     "name": "stderr",
     "output_type": "stream",
     "text": [
      "/opt/conda/lib/python3.5/site-packages/networkx/drawing/nx_pylab.py:126: MatplotlibDeprecationWarning: pyplot.hold is deprecated.\n",
      "    Future behavior will be consistent with the long-time default:\n",
      "    plot commands add elements without first clearing the\n",
      "    Axes and/or Figure.\n",
      "  b = plt.ishold()\n",
      "/opt/conda/lib/python3.5/site-packages/networkx/drawing/nx_pylab.py:138: MatplotlibDeprecationWarning: pyplot.hold is deprecated.\n",
      "    Future behavior will be consistent with the long-time default:\n",
      "    plot commands add elements without first clearing the\n",
      "    Axes and/or Figure.\n",
      "  plt.hold(b)\n",
      "/opt/conda/lib/python3.5/site-packages/matplotlib/__init__.py:917: UserWarning: axes.hold is deprecated. Please remove it from your matplotlibrc and/or style files.\n",
      "  warnings.warn(self.msg_depr_set % key)\n",
      "/opt/conda/lib/python3.5/site-packages/matplotlib/rcsetup.py:152: UserWarning: axes.hold is deprecated, will be removed in 3.0\n",
      "  warnings.warn(\"axes.hold is deprecated, will be removed in 3.0\")\n"
     ]
    },
    {
     "data": {
      "image/png": "[encoded data removed]",
      "text/plain": [
       "<matplotlib.figure.Figure at 0x7f4f35bcd978>"
      ]
     },
     "metadata": {},
     "output_type": "display_data"
    }
   ],
   "source": [
    "import networkx as nx\n",
    "\n",
    "informatics = nx.DiGraph()\n",
    "informatics.add_node(\"Homer Warner\")\n",
    "informatics.add_node(\"Paul Clayton\")\n",
    "informatics.add_edge(\"Homer Warner\",\"Reed Gardner\")\n",
    "informatics.add_edge(\"Homer Warner\", \"Al Pryor\")\n",
    "informatics.add_edge(\"Al Pryor\", \"Dennis Parker\")\n",
    "informatics.add_edge(\"Dennis Parker\", \"Brian Chapman\")\n",
    "informatics.add_edge(\"Brian Chapman\", \"Holly Perry\")\n",
    "informatics.add_edge(\"Peter Haug\",\"Wendy Chapman\")\n",
    "informatics.add_edge(\"Wendy Chapman\", \"Jeannie Irwin\")\n",
    "nx.draw_spring(informatics, with_labels=True, alpha=0.3)"
   ]
  },
  {
   "cell_type": "markdown",
   "metadata": {
    "internals": {
     "slide_helper": "subslide_end",
     "slide_type": "subslide"
    },
    "slide_helper": "subslide_end",
    "slideshow": {
     "slide_type": "subslide"
    }
   },
   "source": [
    "## Some NetworkX Notebooks\n",
    "* [From *Learning IPython for Interactive Computing and Data Visualization*](http://nbviewer.ipython.org/github/ipython-books/minibook-code/blob/master/chapter2/203-networkx.ipynb)\n",
    "* [Twitter Data](http://nbviewer.ipython.org/gist/ellisonbg/3837783/TwitterNetworkX.ipynb)\n",
    "* [NetworkX Basics](https://www.wakari.io/sharing/bundle/nvikram/Basics%20of%20Networkx?has_login=False)"
   ]
  },
  {
   "cell_type": "markdown",
   "metadata": {},
   "source": [
    "## Further Reading\n",
    "[Here is a brief course on graphs and Python](http://www.python-course.eu/graphs_python.php)\n"
   ]
  },
  {
   "cell_type": "markdown",
   "metadata": {},
   "source": [
    "<a rel=\"license\" href=\"http://creativecommons.org/licenses/by-nc-sa/4.0/\"><img alt=\"Creative Commons License\" style=\"border-width:0\" src=\"https://i.creativecommons.org/l/by-nc-sa/4.0/88x31.png\" /></a><br /><span xmlns:dct=\"http://purl.org/dc/terms/\" property=\"dct:title\">University of Uah Data Science for Health</span> by <span xmlns:cc=\"http://creativecommons.org/ns#\" property=\"cc:attributionName\">Brian E. Chapman</span> is licensed under a <a rel=\"license\" href=\"http://creativecommons.org/licenses/by-nc-sa/4.0/\">Creative Commons Attribution-NonCommercial-ShareAlike 4.0 International License</a>."
   ]
  },
  {
   "cell_type": "code",
   "execution_count": null,
   "metadata": {
    "collapsed": true
   },
   "outputs": [],
   "source": []
  }
 ],
 "metadata": {
  "kernelspec": {
   "display_name": "Python 3",
   "language": "python",
   "name": "python3"
  },
  "language_info": {
   "codemirror_mode": {
    "name": "ipython",
    "version": 3
   },
   "file_extension": ".py",
   "mimetype": "text/x-python",
   "name": "python",
   "nbconvert_exporter": "python",
   "pygments_lexer": "ipython3",
   "version": "3.5.2"
  }
 },
 "nbformat": 4,
 "nbformat_minor": 1
}
