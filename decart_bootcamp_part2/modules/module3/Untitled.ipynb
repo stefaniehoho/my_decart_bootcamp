{
 "cells": [
  {
   "cell_type": "code",
   "execution_count": 11,
   "metadata": {
    "collapsed": true
   },
   "outputs": [],
   "source": [
    "import pandas as pd\n",
    "import numpy as np\n",
    "import random\n",
    "import os"
   ]
  },
  {
   "cell_type": "code",
   "execution_count": 2,
   "metadata": {
    "collapsed": true
   },
   "outputs": [],
   "source": [
    "DATADIR = \"/home/jovyan/DATA/Numerics/mimic2/bp/subjects/\"\n",
    "data = os.listdir(\"/home/jovyan/DATA/Numerics/mimic2/bp/subjects/\")"
   ]
  },
  {
   "cell_type": "code",
   "execution_count": 12,
   "metadata": {
    "collapsed": true
   },
   "outputs": [],
   "source": [
    "with open(os.path.join(DATADIR, random.choice(data)))as f0:\n",
    "    values=f0.readlines()"
   ]
  },
  {
   "cell_type": "code",
   "execution_count": 13,
   "metadata": {},
   "outputs": [
    {
     "data": {
      "text/plain": [
       "(list, 279)"
      ]
     },
     "execution_count": 13,
     "metadata": {},
     "output_type": "execute_result"
    }
   ],
   "source": [
    "type(values),len(values)"
   ]
  },
  {
   "cell_type": "code",
   "execution_count": 15,
   "metadata": {},
   "outputs": [
    {
     "data": {
      "text/plain": [
       "['117\\t52\\n']"
      ]
     },
     "execution_count": 15,
     "metadata": {},
     "output_type": "execute_result"
    }
   ],
   "source": [
    "values[1].split(\",\")"
   ]
  },
  {
   "cell_type": "code",
   "execution_count": 18,
   "metadata": {},
   "outputs": [
    {
     "name": "stdout",
     "output_type": "stream",
     "text": [
      "['146', '66']\n",
      "['117', '52']\n",
      "['116', '50']\n",
      "['106', '59']\n",
      "['114', '54']\n"
     ]
    }
   ],
   "source": [
    "#values_part2=[for line in values]\n",
    "for line in values[:5]:\n",
    "    print(line.split())"
   ]
  },
  {
   "cell_type": "code",
   "execution_count": 19,
   "metadata": {},
   "outputs": [
    {
     "name": "stdout",
     "output_type": "stream",
     "text": [
      "146.0,66.0,\n",
      "117.0,52.0,\n",
      "116.0,50.0,\n",
      "106.0,59.0,\n",
      "114.0,54.0,\n"
     ]
    }
   ],
   "source": [
    "for line in values[:5]:\n",
    "    l=line.split()\n",
    "    for ll in l:\n",
    "        print(float(ll),end=\",\")\n",
    "    print()"
   ]
  },
  {
   "cell_type": "code",
   "execution_count": 22,
   "metadata": {},
   "outputs": [
    {
     "name": "stdout",
     "output_type": "stream",
     "text": [
      "[[146.0, 66.0], [117.0, 52.0], [116.0, 50.0], [106.0, 59.0], [114.0, 54.0]]\n"
     ]
    }
   ],
   "source": [
    "mydata=[]\n",
    "for line in values[:5]:\n",
    "    l=line.split()\n",
    "    nums=[float(ll) for ll in l]\n",
    "    mydata.append(nums)\n",
    "print(mydata)"
   ]
  },
  {
   "cell_type": "code",
   "execution_count": 23,
   "metadata": {
    "collapsed": true
   },
   "outputs": [],
   "source": [
    "fname=\"Accidents7904.csv\"\n",
    "with open(os.path.join(\"/home/jovyan/DATA/Misc/\", fname))as f0:\n",
    "    accident_values=f0.readlines(500000)"
   ]
  },
  {
   "cell_type": "code",
   "execution_count": 24,
   "metadata": {},
   "outputs": [
    {
     "data": {
      "text/plain": [
       "4281"
      ]
     },
     "execution_count": 24,
     "metadata": {},
     "output_type": "execute_result"
    }
   ],
   "source": [
    "len(accident_values)"
   ]
  },
  {
   "cell_type": "code",
   "execution_count": 28,
   "metadata": {},
   "outputs": [
    {
     "data": {
      "text/plain": [
       "['197901A1FBK75',\n",
       " '136380',\n",
       " '245000',\n",
       " 'NULL',\n",
       " 'NULL',\n",
       " '1',\n",
       " '3',\n",
       " '2',\n",
       " '1',\n",
       " '01/01/1979',\n",
       " '2',\n",
       " '05:05',\n",
       " '27',\n",
       " '9999',\n",
       " '4',\n",
       " '455',\n",
       " '9',\n",
       " '30',\n",
       " '0',\n",
       " '-1',\n",
       " '-1',\n",
       " '0',\n",
       " '-1',\n",
       " '-1',\n",
       " '4',\n",
       " '8',\n",
       " '3',\n",
       " '-1',\n",
       " '0',\n",
       " '-1',\n",
       " '-1',\n",
       " '\\n']"
      ]
     },
     "execution_count": 28,
     "metadata": {},
     "output_type": "execute_result"
    }
   ],
   "source": [
    "accident_values[10].split(\",\")"
   ]
  },
  {
   "cell_type": "code",
   "execution_count": 26,
   "metadata": {},
   "outputs": [
    {
     "name": "stdout",
     "output_type": "stream",
     "text": [
      "﻿Accident_Index,Location_Easting_OSGR,Location_Northing_OSGR,Longitude,Latitude,Police_Force,Accident_Severity,Number_of_Vehicles,Number_of_Casualties,Date,Day_of_Week,Time,Local_Authority_(District),Local_Authority_(Highway),1st_Road_Class,1st_Road_Number,Road_Type,Speed_limit,Junction_Detail,Junction_Control,2nd_Road_Class,2nd_Road_Number,Pedestrian_Crossing-Human_Control,Pedestrian_Crossing-Physical_Facilities,Light_Conditions,Weather_Conditions,Road_Surface_Conditions,Special_Conditions_at_Site,Carriageway_Hazards,Urban_or_Rural_Area,Did_Police_Officer_Attend_Scene_of_Accident,LSOA_of_Accident_Location\n",
      "\n"
     ]
    }
   ],
   "source": [
    "print(accident_values[0])"
   ]
  },
  {
   "cell_type": "code",
   "execution_count": 27,
   "metadata": {},
   "outputs": [
    {
     "name": "stdout",
     "output_type": "stream",
     "text": [
      "﻿Accident_Index\n",
      "Location_Easting_OSGR\n",
      "Location_Northing_OSGR\n",
      "Longitude\n",
      "Latitude\n",
      "Police_Force\n",
      "Accident_Severity\n",
      "Number_of_Vehicles\n",
      "Number_of_Casualties\n",
      "Date\n",
      "Day_of_Week\n",
      "Time\n",
      "Local_Authority_(District)\n",
      "Local_Authority_(Highway)\n",
      "1st_Road_Class\n",
      "1st_Road_Number\n",
      "Road_Type\n",
      "Speed_limit\n",
      "Junction_Detail\n",
      "Junction_Control\n",
      "2nd_Road_Class\n",
      "2nd_Road_Number\n",
      "Pedestrian_Crossing-Human_Control\n",
      "Pedestrian_Crossing-Physical_Facilities\n",
      "Light_Conditions\n",
      "Weather_Conditions\n",
      "Road_Surface_Conditions\n",
      "Special_Conditions_at_Site\n",
      "Carriageway_Hazards\n",
      "Urban_or_Rural_Area\n",
      "Did_Police_Officer_Attend_Scene_of_Accident\n",
      "LSOA_of_Accident_Location\n",
      "\n"
     ]
    }
   ],
   "source": [
    "for h in accident_values[0].split(\",\"):\n",
    "    print(h)"
   ]
  },
  {
   "cell_type": "code",
   "execution_count": 32,
   "metadata": {},
   "outputs": [],
   "source": [
    "pd.read_csv?"
   ]
  },
  {
   "cell_type": "code",
   "execution_count": 33,
   "metadata": {},
   "outputs": [
    {
     "data": {
      "text/html": [
       "<div>\n",
       "<table border=\"1\" class=\"dataframe\">\n",
       "  <thead>\n",
       "    <tr style=\"text-align: right;\">\n",
       "      <th></th>\n",
       "      <th>Accident_Index</th>\n",
       "      <th>Location_Easting_OSGR</th>\n",
       "      <th>Location_Northing_OSGR</th>\n",
       "      <th>Longitude</th>\n",
       "      <th>Latitude</th>\n",
       "      <th>Police_Force</th>\n",
       "      <th>Accident_Severity</th>\n",
       "      <th>Number_of_Vehicles</th>\n",
       "      <th>Number_of_Casualties</th>\n",
       "      <th>Date</th>\n",
       "      <th>...</th>\n",
       "      <th>Pedestrian_Crossing-Human_Control</th>\n",
       "      <th>Pedestrian_Crossing-Physical_Facilities</th>\n",
       "      <th>Light_Conditions</th>\n",
       "      <th>Weather_Conditions</th>\n",
       "      <th>Road_Surface_Conditions</th>\n",
       "      <th>Special_Conditions_at_Site</th>\n",
       "      <th>Carriageway_Hazards</th>\n",
       "      <th>Urban_or_Rural_Area</th>\n",
       "      <th>Did_Police_Officer_Attend_Scene_of_Accident</th>\n",
       "      <th>LSOA_of_Accident_Location</th>\n",
       "    </tr>\n",
       "  </thead>\n",
       "  <tbody>\n",
       "    <tr>\n",
       "      <th>3995</th>\n",
       "      <td>197901B3XGQ01</td>\n",
       "      <td>334960.0</td>\n",
       "      <td>821000.0</td>\n",
       "      <td>NaN</td>\n",
       "      <td>NaN</td>\n",
       "      <td>1</td>\n",
       "      <td>3</td>\n",
       "      <td>1</td>\n",
       "      <td>1</td>\n",
       "      <td>03/02/1979</td>\n",
       "      <td>...</td>\n",
       "      <td>-1</td>\n",
       "      <td>-1</td>\n",
       "      <td>4</td>\n",
       "      <td>8</td>\n",
       "      <td>1</td>\n",
       "      <td>-1</td>\n",
       "      <td>0</td>\n",
       "      <td>-1</td>\n",
       "      <td>-1</td>\n",
       "      <td>NaN</td>\n",
       "    </tr>\n",
       "    <tr>\n",
       "      <th>3996</th>\n",
       "      <td>197901B3XHD35</td>\n",
       "      <td>368880.0</td>\n",
       "      <td>975000.0</td>\n",
       "      <td>NaN</td>\n",
       "      <td>NaN</td>\n",
       "      <td>1</td>\n",
       "      <td>2</td>\n",
       "      <td>3</td>\n",
       "      <td>7</td>\n",
       "      <td>03/02/1979</td>\n",
       "      <td>...</td>\n",
       "      <td>-1</td>\n",
       "      <td>-1</td>\n",
       "      <td>4</td>\n",
       "      <td>8</td>\n",
       "      <td>1</td>\n",
       "      <td>-1</td>\n",
       "      <td>0</td>\n",
       "      <td>-1</td>\n",
       "      <td>-1</td>\n",
       "      <td>NaN</td>\n",
       "    </tr>\n",
       "    <tr>\n",
       "      <th>3997</th>\n",
       "      <td>197901B3XKD53</td>\n",
       "      <td>521780.0</td>\n",
       "      <td>273000.0</td>\n",
       "      <td>NaN</td>\n",
       "      <td>NaN</td>\n",
       "      <td>1</td>\n",
       "      <td>2</td>\n",
       "      <td>2</td>\n",
       "      <td>3</td>\n",
       "      <td>03/02/1979</td>\n",
       "      <td>...</td>\n",
       "      <td>-1</td>\n",
       "      <td>-1</td>\n",
       "      <td>4</td>\n",
       "      <td>8</td>\n",
       "      <td>1</td>\n",
       "      <td>-1</td>\n",
       "      <td>0</td>\n",
       "      <td>-1</td>\n",
       "      <td>-1</td>\n",
       "      <td>NaN</td>\n",
       "    </tr>\n",
       "    <tr>\n",
       "      <th>3998</th>\n",
       "      <td>197901B3XLC98</td>\n",
       "      <td>316070.0</td>\n",
       "      <td>448000.0</td>\n",
       "      <td>NaN</td>\n",
       "      <td>NaN</td>\n",
       "      <td>1</td>\n",
       "      <td>2</td>\n",
       "      <td>2</td>\n",
       "      <td>2</td>\n",
       "      <td>03/02/1979</td>\n",
       "      <td>...</td>\n",
       "      <td>-1</td>\n",
       "      <td>-1</td>\n",
       "      <td>4</td>\n",
       "      <td>8</td>\n",
       "      <td>1</td>\n",
       "      <td>-1</td>\n",
       "      <td>0</td>\n",
       "      <td>-1</td>\n",
       "      <td>-1</td>\n",
       "      <td>NaN</td>\n",
       "    </tr>\n",
       "    <tr>\n",
       "      <th>3999</th>\n",
       "      <td>197901B3XLD88</td>\n",
       "      <td>507570.0</td>\n",
       "      <td>468000.0</td>\n",
       "      <td>NaN</td>\n",
       "      <td>NaN</td>\n",
       "      <td>1</td>\n",
       "      <td>2</td>\n",
       "      <td>1</td>\n",
       "      <td>1</td>\n",
       "      <td>03/02/1979</td>\n",
       "      <td>...</td>\n",
       "      <td>-1</td>\n",
       "      <td>-1</td>\n",
       "      <td>4</td>\n",
       "      <td>8</td>\n",
       "      <td>1</td>\n",
       "      <td>-1</td>\n",
       "      <td>0</td>\n",
       "      <td>-1</td>\n",
       "      <td>-1</td>\n",
       "      <td>NaN</td>\n",
       "    </tr>\n",
       "  </tbody>\n",
       "</table>\n",
       "<p>5 rows × 32 columns</p>\n",
       "</div>"
      ],
      "text/plain": [
       "     Accident_Index  Location_Easting_OSGR  Location_Northing_OSGR  Longitude  \\\n",
       "3995  197901B3XGQ01               334960.0                821000.0        NaN   \n",
       "3996  197901B3XHD35               368880.0                975000.0        NaN   \n",
       "3997  197901B3XKD53               521780.0                273000.0        NaN   \n",
       "3998  197901B3XLC98               316070.0                448000.0        NaN   \n",
       "3999  197901B3XLD88               507570.0                468000.0        NaN   \n",
       "\n",
       "      Latitude  Police_Force  Accident_Severity  Number_of_Vehicles  \\\n",
       "3995       NaN             1                  3                   1   \n",
       "3996       NaN             1                  2                   3   \n",
       "3997       NaN             1                  2                   2   \n",
       "3998       NaN             1                  2                   2   \n",
       "3999       NaN             1                  2                   1   \n",
       "\n",
       "      Number_of_Casualties        Date            ...              \\\n",
       "3995                     1  03/02/1979            ...               \n",
       "3996                     7  03/02/1979            ...               \n",
       "3997                     3  03/02/1979            ...               \n",
       "3998                     2  03/02/1979            ...               \n",
       "3999                     1  03/02/1979            ...               \n",
       "\n",
       "      Pedestrian_Crossing-Human_Control  \\\n",
       "3995                                 -1   \n",
       "3996                                 -1   \n",
       "3997                                 -1   \n",
       "3998                                 -1   \n",
       "3999                                 -1   \n",
       "\n",
       "     Pedestrian_Crossing-Physical_Facilities  Light_Conditions  \\\n",
       "3995                                      -1                 4   \n",
       "3996                                      -1                 4   \n",
       "3997                                      -1                 4   \n",
       "3998                                      -1                 4   \n",
       "3999                                      -1                 4   \n",
       "\n",
       "      Weather_Conditions  Road_Surface_Conditions  Special_Conditions_at_Site  \\\n",
       "3995                   8                        1                          -1   \n",
       "3996                   8                        1                          -1   \n",
       "3997                   8                        1                          -1   \n",
       "3998                   8                        1                          -1   \n",
       "3999                   8                        1                          -1   \n",
       "\n",
       "      Carriageway_Hazards  Urban_or_Rural_Area  \\\n",
       "3995                    0                   -1   \n",
       "3996                    0                   -1   \n",
       "3997                    0                   -1   \n",
       "3998                    0                   -1   \n",
       "3999                    0                   -1   \n",
       "\n",
       "      Did_Police_Officer_Attend_Scene_of_Accident  LSOA_of_Accident_Location  \n",
       "3995                                           -1                        NaN  \n",
       "3996                                           -1                        NaN  \n",
       "3997                                           -1                        NaN  \n",
       "3998                                           -1                        NaN  \n",
       "3999                                           -1                        NaN  \n",
       "\n",
       "[5 rows x 32 columns]"
      ]
     },
     "execution_count": 33,
     "metadata": {},
     "output_type": "execute_result"
    }
   ],
   "source": [
    "accidents2=pd.read_csv(os.path.join(\"/home/jovyan/DATA/Misc/\",fname),nrows=4000,skiprows=0)\n",
    "accidents2.tail()"
   ]
  },
  {
   "cell_type": "code",
   "execution_count": null,
   "metadata": {
    "collapsed": true
   },
   "outputs": [],
   "source": []
  }
 ],
 "metadata": {
  "kernelspec": {
   "display_name": "Python 3",
   "language": "python",
   "name": "python3"
  },
  "language_info": {
   "codemirror_mode": {
    "name": "ipython",
    "version": 3
   },
   "file_extension": ".py",
   "mimetype": "text/x-python",
   "name": "python",
   "nbconvert_exporter": "python",
   "pygments_lexer": "ipython3",
   "version": "3.5.2"
  }
 },
 "nbformat": 4,
 "nbformat_minor": 2
}
